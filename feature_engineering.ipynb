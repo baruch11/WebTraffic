{
 "cells": [
  {
   "cell_type": "code",
   "execution_count": null,
   "metadata": {},
   "outputs": [],
   "source": [
    "from IPython.core.display import display, HTML\n",
    "display(HTML(\"<style>.container { width:90% !important; }</style>\"))\n",
    "%config Completer.use_jedi = False  # to make autocompletion faster"
   ]
  },
  {
   "cell_type": "code",
   "execution_count": null,
   "metadata": {},
   "outputs": [],
   "source": [
    "import tensorflow as tf\n",
    "import pandas as pd\n",
    "import gc"
   ]
  },
  {
   "cell_type": "code",
   "execution_count": null,
   "metadata": {},
   "outputs": [],
   "source": [
    "from webtraffic_utils import *"
   ]
  },
  {
   "cell_type": "code",
   "execution_count": null,
   "metadata": {},
   "outputs": [],
   "source": [
    "df_train = pd.read_csv(\"train_2.csv.zip\", header=0).set_index(\"Page\").fillna(0).astype(np.int32)\n",
    "#df_train = pd.read_csv(\"train_2.csv.zip\", header=0).dropna().set_index(\"Page\").astype(np.int32).reset_index()"
   ]
  },
  {
   "cell_type": "code",
   "execution_count": null,
   "metadata": {},
   "outputs": [],
   "source": [
    "access = pd.Series([\"_\".join(ii.split(\"_\")[-2:]) for ii in df_train.index], index=df_train.index, name=\"access\")\n",
    "access.value_counts()"
   ]
  },
  {
   "cell_type": "code",
   "execution_count": null,
   "metadata": {},
   "outputs": [],
   "source": [
    "project = pd.Series([ii.split(\"_\")[-3] for ii in df_train.index], index=df_train.index, name=\"project\")\n",
    "project.value_counts()"
   ]
  },
  {
   "cell_type": "markdown",
   "metadata": {},
   "source": [
    "### Spectral analysis"
   ]
  },
  {
   "cell_type": "code",
   "execution_count": null,
   "metadata": {},
   "outputs": [],
   "source": [
    "page_ex = 'Acier_inoxydable_fr.wikipedia.org_desktop_all-agents'\n",
    "x = df_train.loc[page_ex].values\n",
    "#x = df_train.iloc[0].values[1:]\n",
    "xc = x-np.mean(x, dtype=np.float)\n",
    "xn = xc / np.linalg.norm(xc) \n",
    "#np.linalg.norm([1,1])\n",
    "fn = np.fft.rfft(xn)\n",
    "tones = np.argwhere(np.abs(fn)**2 >10) / len(x)\n",
    "\n",
    "f,ax = plt.subplots()\n",
    "ax.plot(np.linspace(0,0.5,num=len(fn)),np.abs(fn)**2)\n",
    "ax.set_yscale(\"log\")\n",
    "ax.set_ylim(bottom=1e-1)\n",
    "ax.grid()\n",
    "np.sum(xn**2),np.mean(np.abs(fn)**2),1./7,1./365\n",
    "tones.reshape(-1,).shape"
   ]
  },
  {
   "cell_type": "code",
   "execution_count": null,
   "metadata": {},
   "outputs": [],
   "source": [
    "def find_tones(x):\n",
    "    xc = x-np.mean(x, dtype=np.float)\n",
    "    xn = xc / (np.linalg.norm(xc) + 1e-16)\n",
    "    #np.linalg.norm([1,1])\n",
    "    fn = np.fft.rfft(xn)\n",
    "    tones = np.argwhere(np.abs(fn)**2 >10) / len(x)\n",
    "    return list(tones.reshape(-1,))\n",
    "\n",
    "tones = df_train.apply(lambda x: find_tones(x.values), axis=1).rename(\"tones\")"
   ]
  },
  {
   "cell_type": "code",
   "execution_count": null,
   "metadata": {},
   "outputs": [],
   "source": [
    "(tones.apply(len)>0).mean()"
   ]
  },
  {
   "cell_type": "code",
   "execution_count": null,
   "metadata": {},
   "outputs": [],
   "source": [
    "weekly_tone = tones.apply(lambda x: (np.abs(np.array(x)-1./7.)<1e-2).any())\n",
    "weekly_tone.mean()"
   ]
  },
  {
   "cell_type": "code",
   "execution_count": null,
   "metadata": {},
   "outputs": [],
   "source": [
    "%matplotlib\n",
    "f,ax = plt.subplots()\n",
    "tones.explode().dropna().hist(ax=ax, bins = 100)\n",
    "ax.set_yscale(\"log\")"
   ]
  },
  {
   "cell_type": "markdown",
   "metadata": {},
   "source": [
    "##### median"
   ]
  },
  {
   "cell_type": "code",
   "execution_count": null,
   "metadata": {},
   "outputs": [],
   "source": [
    "s_median = pd.Series(np.median(df_train.values[:,:-62], axis=1), index=df_train.index, name=\"median\")\n",
    "\n",
    "f, ax = plt.subplots()\n",
    "#ax.hist(np.log1p(s_median), bins=50)\n",
    "#ax.hist(s_median, cumulative=True, bins=100, density=True)\n",
    "#ax.boxplot(np.random.randn(100))\n",
    "ax.boxplot(s_median.dropna(), showfliers=False)\n",
    "ax.grid()\n",
    "ax.set_title(\"median traffic distribution\")\n",
    "plt.show()"
   ]
  },
  {
   "cell_type": "markdown",
   "metadata": {},
   "source": [
    "###### null/zero values"
   ]
  },
  {
   "cell_type": "code",
   "execution_count": null,
   "metadata": {},
   "outputs": [],
   "source": [
    "last_values_null = pd.Series(np.mean(df_train.values[:,-62-200:-62] == 0, axis=1), index=df_train.index, name=\"last_values_null\")"
   ]
  },
  {
   "cell_type": "code",
   "execution_count": null,
   "metadata": {},
   "outputs": [],
   "source": [
    "df_feats = pd.concat([access, project, tones, s_median, last_values_null], axis=1)"
   ]
  },
  {
   "cell_type": "code",
   "execution_count": null,
   "metadata": {},
   "outputs": [],
   "source": [
    "df_feats.to_csv(\"features_computed.csv.zip\")"
   ]
  }
 ],
 "metadata": {
  "kernelspec": {
   "display_name": "tf",
   "language": "python",
   "name": "tf"
  },
  "language_info": {
   "codemirror_mode": {
    "name": "ipython",
    "version": 3
   },
   "file_extension": ".py",
   "mimetype": "text/x-python",
   "name": "python",
   "nbconvert_exporter": "python",
   "pygments_lexer": "ipython3",
   "version": "3.8.8"
  }
 },
 "nbformat": 4,
 "nbformat_minor": 4
}
