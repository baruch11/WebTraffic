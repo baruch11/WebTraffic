{
 "cells": [
  {
   "cell_type": "code",
   "execution_count": null,
   "metadata": {},
   "outputs": [],
   "source": [
    "import pandas as pd\n",
    "import numpy as np\n",
    "import matplotlib.pyplot as plt\n",
    "import tensorflow as tf"
   ]
  },
  {
   "cell_type": "code",
   "execution_count": null,
   "metadata": {},
   "outputs": [],
   "source": [
    "\"\"\"\n",
    "# load kaggle environment\n",
    "from google.colab import files\n",
    "files.upload() #upload kaggle.json\n",
    "!pip install -q kaggle\n",
    "!mkdir -p ~/.kaggle\n",
    "!cp kaggle.json ~/.kaggle/\n",
    "!ls ~/.kaggle\n",
    "!chmod 600 /root/.kaggle/kaggle.json\n",
    "!mkdir logs\n",
    "\n",
    "!kaggle competitions download -c web-traffic-time-series-forecasting\n",
    "!unzip train_2.csv.zip\n",
    "\"\"\""
   ]
  },
  {
   "cell_type": "markdown",
   "metadata": {},
   "source": [
    "### load dataset"
   ]
  },
  {
   "cell_type": "code",
   "execution_count": null,
   "metadata": {},
   "outputs": [],
   "source": [
    "import random\n",
    "random.seed(1111)\n",
    "p = 0.2  # 1% of the lines\n",
    "# keep the header, then take only 1% of lines\n",
    "# if random from [0,1] interval is greater than 0.01 the row will be skipped\n",
    "df = pd.read_csv(\n",
    "         \"train_2.csv.zip\",\n",
    "         header=0, \n",
    "         skiprows=lambda i: i>0 and random.random() > p\n",
    ")\n",
    "df = df.sample(frac=1).reset_index(drop=True).fillna(0)\n",
    "Page = df.Page\n",
    "agent = Page.apply(lambda x: x.split(\"_\")[-1])\n",
    "access = Page.apply(lambda x: x.split(\"_\")[-2])\n",
    "wikiproject = Page.apply(lambda x: x.split(\"_\")[-3])\n",
    "page_name = Page.apply(lambda x: \"_\".join(x.split(\"_\")[:-3]))\n",
    "df.drop(columns=[\"Page\"], inplace=True)"
   ]
  },
  {
   "cell_type": "markdown",
   "metadata": {},
   "source": [
    "##### train test split"
   ]
  },
  {
   "cell_type": "code",
   "execution_count": null,
   "metadata": {},
   "outputs": [],
   "source": [
    "Mtraffic = df.values\n",
    "#Mtraffic = Mtraffic/Mtraffic.max()\n",
    "\n",
    "output_len = 62\n",
    "\n",
    "Ltst = 1000\n",
    "Ltr = Mtraffic.shape[0] - 2*Ltst\n",
    "shift_start = 0\n",
    "\n",
    "x_train, y_train = Mtraffic[:Ltr,shift_start:-output_len], Mtraffic[:Ltr,-output_len:]\n",
    "x_valid, y_valid = Mtraffic[Ltr:Ltr+Ltst, shift_start:-output_len], Mtraffic[Ltr:Ltr+Ltst,-output_len:]\n",
    "x_test, y_test = Mtraffic[Ltr+Ltst:, shift_start:-output_len], Mtraffic[Ltr+Ltst:,-output_len:]\n",
    "\n",
    "x_train.shape, y_train.shape\n",
    "x_train.shape, x_valid.shape, y_train.shape"
   ]
  },
  {
   "cell_type": "markdown",
   "metadata": {},
   "source": [
    "##### training utils"
   ]
  },
  {
   "cell_type": "code",
   "execution_count": null,
   "metadata": {},
   "outputs": [],
   "source": [
    "def smape(A, F):\n",
    "    epsilon = 0.1\n",
    "    summ = tf.maximum(tf.abs(A) + tf.abs(F) + epsilon, 0.5 + epsilon)\n",
    "    return tf.abs(A - F) / summ * 2.0 * 100\n",
    "    #return tf.reduce_mean(2 * tf.math.abs(F - A) / (tf.math.abs(A) + tf.math.abs(F) + epsilon)) * 100 "
   ]
  },
  {
   "cell_type": "code",
   "execution_count": null,
   "metadata": {},
   "outputs": [],
   "source": [
    "def smape_np(A, F):\n",
    "    return 100/A.size * np.sum(2 * np.abs(F - A) / (np.abs(A) + np.abs(F) + np.finfo(float).eps))"
   ]
  },
  {
   "cell_type": "code",
   "execution_count": null,
   "metadata": {},
   "outputs": [],
   "source": [
    "#tensorboard callbacks\n",
    "from datetime import datetime\n",
    "datetime.now().strftime(\"%H-%M-%S\")\n",
    "def create_tb_cb(model_name):\n",
    "    return tf.keras.callbacks.TensorBoard(log_dir=\"./logs/\"+model_name+\"-\"+datetime.now().strftime(\"%H-%M-%S\"))"
   ]
  },
  {
   "cell_type": "code",
   "execution_count": null,
   "metadata": {},
   "outputs": [],
   "source": [
    "def plot_check_result(df_check, predict_func, ax):\n",
    "    Ntsteps = x_train.shape[1]\n",
    "    pred = predict_func(df_check.values[:,:-62])\n",
    "    print(\"smape \", smape_np(pred, df_check.values[:,-62:]))\n",
    "    df_ref = df_check.reset_index(drop=True).T.reset_index(drop=True)\n",
    "    df_pred = pd.DataFrame(pred.T,index=np.arange(0,62)+Ntsteps)\n",
    "    df_pred.plot(ax=ax, style=\".-\")\n",
    "    ax.set_prop_cycle(None)\n",
    "    df_ref.plot(ax=ax)"
   ]
  },
  {
   "cell_type": "markdown",
   "metadata": {},
   "source": [
    "[linear model](#linear-model)  \n",
    "[RNN](#RNN)  \n"
   ]
  },
  {
   "cell_type": "markdown",
   "metadata": {},
   "source": [
    "## Exploration"
   ]
  },
  {
   "cell_type": "code",
   "execution_count": null,
   "metadata": {},
   "outputs": [],
   "source": [
    "f, ax = plt.subplots()\n",
    "ax.plot(agent)\n",
    "ax.plot(access)\n",
    "ax.plot(wikiproject)"
   ]
  },
  {
   "cell_type": "code",
   "execution_count": null,
   "metadata": {},
   "outputs": [],
   "source": [
    "f, ax = plt.subplots()\n",
    "line = ax.plot(df.loc[agent==\"spider\"].head().T.reset_index(drop=True))\n",
    "ax.legend(line, Page.head())\n",
    "plt.show()"
   ]
  },
  {
   "cell_type": "markdown",
   "metadata": {},
   "source": [
    "### SMAPE"
   ]
  },
  {
   "cell_type": "code",
   "execution_count": null,
   "metadata": {},
   "outputs": [],
   "source": [
    "def last_repeated_estimator(ts_prev):\n",
    "    \"\"\" ts_prev : matrix (m, Ts) \"\"\"\n",
    "    return np.tile(ts_prev[:,-1].reshape(-1,1), (1,62))"
   ]
  },
  {
   "cell_type": "code",
   "execution_count": null,
   "metadata": {},
   "outputs": [],
   "source": [
    "Dnum = df.fillna(0).values[:,5:]"
   ]
  },
  {
   "cell_type": "code",
   "execution_count": null,
   "metadata": {},
   "outputs": [],
   "source": [
    "smape_np(np.zeros_like(Dnum), Dnum)"
   ]
  },
  {
   "cell_type": "code",
   "execution_count": null,
   "metadata": {},
   "outputs": [],
   "source": [
    "Mmean = np.tile(np.mean(Dnum, 1).reshape(-1,1) , (1,Dnum.shape[1]))\n",
    "smape_np(Mmean, Dnum)"
   ]
  },
  {
   "cell_type": "markdown",
   "metadata": {},
   "source": [
    "### Autocorrelation"
   ]
  },
  {
   "cell_type": "code",
   "execution_count": null,
   "metadata": {},
   "outputs": [],
   "source": [
    "def estimated_autocorrelation(x):\n",
    "    \"\"\"\n",
    "    http://stackoverflow.com/q/14297012/190597\n",
    "    http://en.wikipedia.org/wiki/Autocorrelation#Estimation\n",
    "    \"\"\"\n",
    "    n = len(x)\n",
    "    variance = x.var()\n",
    "    x = x-x.mean()\n",
    "    r = np.correlate(x, x, mode = 'full')[-n:]\n",
    "    assert np.allclose(r, np.array([(x[:n-k]*x[-(n-k):]).sum() for k in range(n)]))\n",
    "    result = r/(variance*(np.arange(n, 0, -1)))\n",
    "    return result"
   ]
  },
  {
   "cell_type": "code",
   "execution_count": null,
   "metadata": {},
   "outputs": [],
   "source": [
    "df_allagent = df.loc[agent==\"all-agents\"]\n",
    "\n",
    "f, ax = plt.subplots()\n",
    "ax.plot(estimated_autocorrelation(df_allagent.iloc[20951,:].values))\n",
    "#ax.plot(estimated_autocorrelation(df_allagent.iloc[1,:].values))\n",
    "#ax.plot(estimated_autocorrelation(df_allagent.iloc[2,:].values))\n",
    "#ax.plot(estimated_autocorrelation(df_allagent.iloc[3,:].values))\n",
    "ax.scatter(365,0,s=10,c=\"r\")\n",
    "ax.grid()"
   ]
  },
  {
   "cell_type": "code",
   "execution_count": null,
   "metadata": {},
   "outputs": [],
   "source": [
    "f, ax = plt.subplots()\n",
    "ax.plot(df_allagent.iloc[20951,:].values)\n"
   ]
  },
  {
   "cell_type": "code",
   "execution_count": null,
   "metadata": {},
   "outputs": [],
   "source": [
    "df_allagent.shape"
   ]
  },
  {
   "cell_type": "code",
   "execution_count": null,
   "metadata": {},
   "outputs": [],
   "source": [
    "df_allagent.mean(axis=1).sort_values(ascending=False).head(15000)"
   ]
  },
  {
   "cell_type": "markdown",
   "metadata": {},
   "source": [
    "### Models"
   ]
  },
  {
   "cell_type": "markdown",
   "metadata": {},
   "source": [
    "[repeat last value](#repeat-last-value)  \n",
    "[linear model](#linear-model)"
   ]
  },
  {
   "cell_type": "markdown",
   "metadata": {},
   "source": [
    "###### repeat last value"
   ]
  },
  {
   "cell_type": "code",
   "execution_count": null,
   "metadata": {},
   "outputs": [],
   "source": [
    "def repeat_lv(X):\n",
    "    return np.tile(X[:,-1].reshape(-1,1), reps=(1,output_len))\n",
    "\n",
    "smape_np(repeat_lv(x_train), y_train), smape_np(repeat_lv(x_valid), y_valid), smape_np(repeat_lv(x_test), y_test)\n"
   ]
  },
  {
   "cell_type": "code",
   "execution_count": null,
   "metadata": {},
   "outputs": [],
   "source": [
    "repeat_lv(x_train)"
   ]
  },
  {
   "cell_type": "markdown",
   "metadata": {},
   "source": [
    "###### linear model"
   ]
  },
  {
   "cell_type": "code",
   "execution_count": null,
   "metadata": {},
   "outputs": [],
   "source": [
    "tf.keras.backend.clear_session()\n",
    "tb_cb = create_tb_cb(\"linear\")"
   ]
  },
  {
   "cell_type": "code",
   "execution_count": null,
   "metadata": {},
   "outputs": [],
   "source": [
    "model_linear = tf.keras.Sequential([\n",
    "    tf.keras.layers.Dense(units=output_len, \n",
    "                          kernel_regularizer=tf.keras.regularizers.l1_l2(l1=0, l2=0))\n",
    "])"
   ]
  },
  {
   "cell_type": "code",
   "execution_count": null,
   "metadata": {},
   "outputs": [],
   "source": [
    "model_linear.compile(loss=smape, optimizer=tf.optimizers.Adam(learning_rate=1e-4))"
   ]
  },
  {
   "cell_type": "code",
   "execution_count": null,
   "metadata": {},
   "outputs": [],
   "source": [
    "def scheduler(epoch, lr):\n",
    "    if epoch < 40:\n",
    "        return lr\n",
    "    else:\n",
    "        return lr * tf.math.exp(-0.1)\n",
    "lr_cb = tf.keras.callbacks.LearningRateScheduler(scheduler)"
   ]
  },
  {
   "cell_type": "code",
   "execution_count": null,
   "metadata": {},
   "outputs": [],
   "source": [
    "model_linear.fit(x_train, y_train, epochs=100, batch_size=32 , \n",
    "          validation_data= (x_valid, y_valid), callbacks=[tb_cb, lr_cb])"
   ]
  },
  {
   "cell_type": "code",
   "execution_count": null,
   "metadata": {},
   "outputs": [],
   "source": [
    "model_linear.optimizer.lr.numpy()\n",
    "x_train.shape"
   ]
  },
  {
   "cell_type": "code",
   "execution_count": null,
   "metadata": {},
   "outputs": [],
   "source": [
    "def linear_estimator(x):\n",
    "    return model_linear.predict(x[:,-x_train.shape[1]:])"
   ]
  },
  {
   "cell_type": "code",
   "execution_count": null,
   "metadata": {},
   "outputs": [],
   "source": [
    "weights = model_linear.get_layer(\"dense\").get_weights()[0]\n",
    "\n",
    "f,ax = plt.subplots()\n",
    "ax.plot(np.abs(weights[:,0]))"
   ]
  },
  {
   "cell_type": "code",
   "execution_count": null,
   "metadata": {},
   "outputs": [],
   "source": [
    "model_linear.summary()"
   ]
  },
  {
   "cell_type": "code",
   "execution_count": null,
   "metadata": {},
   "outputs": [],
   "source": [
    "smape_np(linear_estimator(x_train), y_train)"
   ]
  },
  {
   "cell_type": "markdown",
   "metadata": {},
   "source": [
    "##### check"
   ]
  },
  {
   "cell_type": "code",
   "execution_count": null,
   "metadata": {},
   "outputs": [],
   "source": [
    "df_check = df[agent==\"all-agents\"].head()\n",
    "df_check.values[:,:-62]"
   ]
  },
  {
   "cell_type": "code",
   "execution_count": null,
   "metadata": {},
   "outputs": [],
   "source": [
    "smape_np(linear_estimator(df_check.values[:,:-62]),df_check.values[:,-62:])"
   ]
  },
  {
   "cell_type": "code",
   "execution_count": null,
   "metadata": {},
   "outputs": [],
   "source": [
    "%matplotlib notebook\n",
    "f,ax = plt.subplots()\n",
    "\n",
    "plot_check_result(df_check, linear_estimator, ax)\n",
    "#ax.set_xlim(left=700)\n"
   ]
  },
  {
   "cell_type": "markdown",
   "metadata": {},
   "source": [
    "###### RNN"
   ]
  },
  {
   "cell_type": "code",
   "execution_count": null,
   "metadata": {},
   "outputs": [],
   "source": [
    "tf.keras.backend.clear_session()\n",
    "tb_cb = create_tb_cb(\"rnn\")"
   ]
  },
  {
   "cell_type": "code",
   "execution_count": null,
   "metadata": {},
   "outputs": [],
   "source": [
    "model = tf.keras.Sequential()\n",
    "\n",
    "# Add a LSTM layer with 128 internal units.\n",
    "model.add(tf.keras.Input((None,1)))\n",
    "model.add(tf.keras.layers.GRU(20, return_sequences=True))\n",
    "model.add(tf.keras.layers.GRU(20))\n",
    "model.add(tf.keras.layers.Dense(output_len))\n",
    "\n",
    "model.summary()\n"
   ]
  },
  {
   "cell_type": "code",
   "execution_count": null,
   "metadata": {},
   "outputs": [],
   "source": [
    "MaxTs = 200\n",
    "Limit_train=5000\n"
   ]
  },
  {
   "cell_type": "code",
   "execution_count": null,
   "metadata": {},
   "outputs": [],
   "source": [
    "# scaler\n",
    "from sklearn.preprocessing import MinMaxScaler\n",
    "scaler = MinMaxScaler()\n",
    "scaler.fit(x_train[:,-MaxTs:].T)\n",
    "\n",
    "def scale_train(x):\n",
    "    #return np.log1p(x)\n",
    "    return scaler.transform(x.T).T"
   ]
  },
  {
   "cell_type": "code",
   "execution_count": null,
   "metadata": {},
   "outputs": [],
   "source": [
    "\n",
    "x_train_rnn = scale_train(x_train)[:Limit_train,-MaxTs:, np.newaxis]; \n",
    "y_train_rnn = scale_train(y_train)[:Limit_train]\n",
    "x_valid_rnn = x_valid[:,-MaxTs:, np.newaxis]"
   ]
  },
  {
   "cell_type": "code",
   "execution_count": null,
   "metadata": {},
   "outputs": [],
   "source": [
    "%matplotlib inline\n",
    "f, ax = plt.subplots()\n",
    "ax.plot(x_train_rnn[0,:,0])\n",
    "plt.show()"
   ]
  },
  {
   "cell_type": "code",
   "execution_count": null,
   "metadata": {},
   "outputs": [],
   "source": [
    "model.compile(loss=smape, optimizer=tf.optimizers.Adam(learning_rate=1e-3),metrics=[smape,\"mse\"])"
   ]
  },
  {
   "cell_type": "code",
   "execution_count": null,
   "metadata": {},
   "outputs": [],
   "source": [
    "model.fit(x_train_rnn, y_train_rnn, epochs=500, batch_size=32 , validation_split= 0.2,\n",
    "          #validation_data= (x_valid_rnn, y_valid), \n",
    "          callbacks=[tb_cb])"
   ]
  },
  {
   "cell_type": "code",
   "execution_count": null,
   "metadata": {},
   "outputs": [],
   "source": [
    "# weights\n",
    "[(np.max(ii), np.mean(ii) , np.min(ii)) for ii in model.get_layer(\"gru\").get_weights()]"
   ]
  },
  {
   "cell_type": "code",
   "execution_count": null,
   "metadata": {},
   "outputs": [],
   "source": [
    "f,ax = plt.subplots()\n",
    "ax.plot(model.predict(x_train_rnn[:1,...]).T)\n",
    "ax.plot(y_train_rnn[:1,...].T)\n"
   ]
  },
  {
   "cell_type": "code",
   "execution_count": null,
   "metadata": {},
   "outputs": [],
   "source": [
    "def rnn_predict(x):\n",
    "    scaler = MinMaxScaler()\n",
    "    xsc = scaler.fit_transform(x[:,-MaxTs:].T).T\n",
    "    pred0 = model.predict(xsc[:, -MaxTs:, np.newaxis])\n",
    "    return scaler.inverse_transform(pred0.T).T"
   ]
  },
  {
   "cell_type": "code",
   "execution_count": null,
   "metadata": {},
   "outputs": [],
   "source": [
    "%matplotlib inline\n",
    "f,ax = plt.subplots() \n",
    "ax.plot(rnn_predict(x_train[:2,...]).T)\n",
    "ax.plot(y_train[:2,...].T +10)\n",
    "plt.show()\n",
    "smape_np(rnn_predict(x_train[:1,...]),   y_train[:1,...])"
   ]
  },
  {
   "cell_type": "code",
   "execution_count": null,
   "metadata": {},
   "outputs": [],
   "source": [
    "(smape_np(rnn_predict(x_train[:Limit_train,...]), y_train[:Limit_train,...]),\n",
    " smape_np(model.predict(x_train_rnn), y_train_rnn))"
   ]
  },
  {
   "cell_type": "code",
   "execution_count": null,
   "metadata": {},
   "outputs": [],
   "source": [
    "smape_np(rnn_predict(x_train), y_train)"
   ]
  },
  {
   "cell_type": "code",
   "execution_count": null,
   "metadata": {},
   "outputs": [],
   "source": [
    "%matplotlib inline\n",
    "f,ax = plt.subplots()\n",
    "\n",
    "plot_check_result(df_check, rnn_predict, ax)\n",
    "ax.set_xlim(left=700)\n",
    "ax.set_ylim(top=1000,bottom=0)"
   ]
  },
  {
   "cell_type": "markdown",
   "metadata": {},
   "source": [
    "### ouput"
   ]
  },
  {
   "cell_type": "code",
   "execution_count": null,
   "metadata": {},
   "outputs": [],
   "source": [
    "key = pd.read_csv(\"key_2.csv.zip\").set_index(\"Page\")"
   ]
  },
  {
   "cell_type": "code",
   "execution_count": null,
   "metadata": {},
   "outputs": [],
   "source": [
    "key[\"Visits\"] = None\n",
    "key.head()"
   ]
  },
  {
   "cell_type": "code",
   "execution_count": null,
   "metadata": {},
   "outputs": [],
   "source": [
    "def output_form(_df, _estimator=None):\n",
    "    \"\"\" return a serie indexed by Page \"\"\"\n",
    "    out_date = pd.date_range(start=\"2017-09-13\", end=\"2017-11-13\", freq=\"1D\").strftime(\"%Y-%m-%d\").to_list()\n",
    "    num_hist = _df.drop(columns=\"Page\").fillna(0).values\n",
    "    num_pred = _estimator(num_hist)\n",
    "    ret = pd.DataFrame(num_pred, columns=out_date, index=_df[\"Page\"]).stack().rename(\"Visits\")\n",
    "    ret.index = [ii[0]+\"_\"+ii[1] for ii in ret.index]\n",
    "    return ret\n",
    "\n",
    "chunk = pd.read_csv(\"train_2.csv.zip\", nrows=10000)\n",
    "Visits_pred = output_form(chunk, linear_estimator)"
   ]
  },
  {
   "cell_type": "code",
   "execution_count": null,
   "metadata": {},
   "outputs": [],
   "source": [
    "df_chunk = pd.read_csv(\"train_2.csv.zip\", chunksize=10000)\n",
    "\n",
    "for ii, chunk in enumerate(df_chunk):\n",
    "    print(\"Prediction {}\".format(ii))\n",
    "    predictions = output_form(chunk, rnn_predict).astype(int)\n",
    "    key.loc[predictions.index, \"Visits\"] = predictions.astype(int)"
   ]
  },
  {
   "cell_type": "code",
   "execution_count": null,
   "metadata": {},
   "outputs": [],
   "source": [
    "key.to_csv(\"subm_gru.csv\", encoding='utf-8', index=False)"
   ]
  }
 ],
 "metadata": {
  "kernelspec": {
   "display_name": "tf",
   "language": "python",
   "name": "tf"
  }
 },
 "nbformat": 4,
 "nbformat_minor": 4
}
