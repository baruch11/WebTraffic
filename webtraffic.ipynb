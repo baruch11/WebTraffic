{
 "cells": [
  {
   "cell_type": "code",
   "execution_count": null,
   "metadata": {},
   "outputs": [],
   "source": [
    "from IPython.core.display import display, HTML\n",
    "display(HTML(\"<style>.container { width:80% !important; }</style>\"))\n",
    "%config Completer.use_jedi = False  # to make autocompletion faster"
   ]
  },
  {
   "cell_type": "code",
   "execution_count": null,
   "metadata": {},
   "outputs": [],
   "source": [
    "import pandas as pd\n",
    "import numpy as np\n",
    "import matplotlib.pyplot as plt\n",
    "import tensorflow as tf\n",
    "from tensorflow import keras\n",
    "import gc\n",
    "%matplotlib\n"
   ]
  },
  {
   "cell_type": "code",
   "execution_count": null,
   "metadata": {},
   "outputs": [],
   "source": [
    "tf.__version__"
   ]
  },
  {
   "cell_type": "code",
   "execution_count": null,
   "metadata": {
    "scrolled": true
   },
   "outputs": [],
   "source": [
    "\"\"\"\n",
    "# load kaggle environment if in google colab\n",
    "from google.colab import files\n",
    "files.upload() #upload kaggle.json\n",
    "!pip install -q kaggle\n",
    "!mkdir -p ~/.kaggle\n",
    "!cp kaggle.json ~/.kaggle/\n",
    "!ls ~/.kaggle\n",
    "!chmod 600 /root/.kaggle/kaggle.json\n",
    "\"\"\""
   ]
  },
  {
   "cell_type": "code",
   "execution_count": null,
   "metadata": {},
   "outputs": [],
   "source": [
    "\"\"\"\n",
    "!kaggle competitions download -c web-traffic-time-series-forecasting\n",
    "!yes|unzip web-traffic-time-series-forecasting.zip\n",
    "!mkdir logs\n",
    "!mkdir saved_model\n",
    "\"\"\""
   ]
  },
  {
   "cell_type": "markdown",
   "metadata": {},
   "source": [
    "## Make dataset"
   ]
  },
  {
   "cell_type": "code",
   "execution_count": null,
   "metadata": {},
   "outputs": [],
   "source": [
    "from webtraffic_utils import *\n",
    "output_len = 62"
   ]
  },
  {
   "cell_type": "code",
   "execution_count": null,
   "metadata": {},
   "outputs": [],
   "source": [
    "# features like (access, spectral tones) created by feature_engineering.ipynb\n",
    "\n",
    "from ast import literal_eval\n",
    "df_feat = pd.read_csv(\"features_computed.csv.zip\",converters={\"tones\":literal_eval}).set_index(\"Page\")\n",
    "weekly_tone = df_feat[\"tones\"].apply(lambda x: (np.abs(np.array(x)-1./7.)<1e-2).any()).rename(\"week\")"
   ]
  },
  {
   "cell_type": "code",
   "execution_count": null,
   "metadata": {},
   "outputs": [],
   "source": [
    "df_ds = pd.read_csv(\"train_2.csv.zip\", header=0).set_index(\"Page\").fillna(0).astype(np.int32)"
   ]
  },
  {
   "cell_type": "raw",
   "metadata": {},
   "source": [
    "# add features to df\n",
    "add_feats = pd.concat([weekly_tone], axis=1)\n",
    "add_feats.rename(columns={ii:\"feat_\"+str(ii) for ii in add_feats.columns}, inplace=True)\n",
    "df_ds = pd.concat([df_ds, add_feats], axis=1)\n",
    "add_feats.columns"
   ]
  },
  {
   "cell_type": "raw",
   "metadata": {},
   "source": [
    "from sklearn.model_selection import train_test_split\n",
    "\n",
    "df_train, df_test, week_train, week_test = train_test_split(df_ds, weekly_tone, test_size=20000)"
   ]
  },
  {
   "cell_type": "markdown",
   "metadata": {},
   "source": [
    "[repeat last value](#repeat-last-value)  \n",
    "[linear model](#linear-model)  \n",
    "[RNN](#RNN)  "
   ]
  },
  {
   "cell_type": "markdown",
   "metadata": {},
   "source": [
    "## Exploration"
   ]
  },
  {
   "cell_type": "code",
   "execution_count": null,
   "metadata": {},
   "outputs": [],
   "source": [
    "# remarkable pages\n",
    "\n",
    "rem_pages = [\n",
    "    'Acier_inoxydable_fr.wikipedia.org_desktop_all-agents',\n",
    "]\n",
    "#rem_pages = df_ds.loc[weekly_tone & (df_feat[\"access\"] == \"desktop_all-agents\")].index\n",
    "\n",
    "\n",
    "\n",
    "page = rem_pages[0]\n",
    "traffic_t =  df_ds.loc[page].values[:-1].astype(int)\n",
    "f,vax = plt.subplots(1,3, figsize=(20,4))\n",
    "fax = vax.flat\n",
    "\n",
    "\n",
    "ax=next(fax)\n",
    "ax.plot(traffic_t)\n",
    "ax.set_title(\"time traffic\")\n",
    "\n",
    "\n",
    "ax=next(fax)\n",
    "ax.plot(estimated_autocorrelation(traffic_t))\n",
    "ax.set_xticks([0,365,2*365])\n",
    "ax.set_title(\"autocorrelation\")\n",
    "ax.grid()\n",
    "\n",
    "ax=next(fax)\n",
    "plot_spectrest(traffic_t, ax)\n",
    "ax.set_title(\"spectral estimation\")\n",
    "\n",
    "\n",
    "\n",
    "\n",
    "plt.suptitle(page, fontsize=15)\n",
    "plt.show()"
   ]
  },
  {
   "cell_type": "markdown",
   "metadata": {},
   "source": [
    "## Models"
   ]
  },
  {
   "cell_type": "markdown",
   "metadata": {},
   "source": [
    "[repeat last value](#repeat-last-value)  \n",
    "[linear model](#linear-model)  \n",
    "[RNN](#RNN)  "
   ]
  },
  {
   "cell_type": "markdown",
   "metadata": {},
   "source": [
    "### repeat last value"
   ]
  },
  {
   "cell_type": "code",
   "execution_count": null,
   "metadata": {},
   "outputs": [],
   "source": [
    "import tensorflow_probability as tfp\n",
    "\n",
    "class Median(tf.keras.layers.Layer):\n",
    "    def __init__(self, median_depth=40):\n",
    "        super().__init__()\n",
    "        self.median_depth =median_depth\n",
    "            \n",
    "    def call(self, inputs):\n",
    "        #print(inputs)\n",
    "        Xtraff = tfp.stats.percentile(inputs[:,-self.median_depth:], 50.0, \n",
    "                                      interpolation='lower', axis=1)\n",
    "        return tf.tile(tf.expand_dims(Xtraff,axis=1), [1,output_len])"
   ]
  },
  {
   "cell_type": "code",
   "execution_count": null,
   "metadata": {
    "scrolled": true
   },
   "outputs": [],
   "source": [
    "I_traffic = tf.keras.layers.Input(shape=(None,))\n",
    "I_page = tf.keras.layers.Input(shape=(), dtype=object)\n",
    "outputs = Median(40)(I_traffic)  \n",
    "med = tf.keras.models.Model([I_page,I_traffic],outputs)\n",
    "\n",
    "med.compile(loss=SmapeLoss(), metrics=[SmapeMetric()])\n",
    "\n",
    "features, target = get_model_inputs(df_ds)\n",
    "med.evaluate(features, target, batch_size=1000)\n",
    "\n",
    "med.save(\"saved_model/median\", save_format='tf')\n",
    "_=gc.collect()"
   ]
  },
  {
   "cell_type": "code",
   "execution_count": null,
   "metadata": {},
   "outputs": [],
   "source": [
    "features, target = get_model_inputs(df_ds.loc[~weekly_tone])\n",
    "med.evaluate(features, target, batch_size=1000)\n"
   ]
  },
  {
   "cell_type": "code",
   "execution_count": null,
   "metadata": {},
   "outputs": [],
   "source": [
    "plot_check_result(df_ds, rem_pages[0], [med])"
   ]
  },
  {
   "cell_type": "markdown",
   "metadata": {},
   "source": [
    "### linear model"
   ]
  },
  {
   "cell_type": "code",
   "execution_count": null,
   "metadata": {},
   "outputs": [],
   "source": [
    "def scheduler(epoch, lr):\n",
    "    if epoch < 10:\n",
    "        return lr\n",
    "    else:\n",
    "        return lr * tf.math.exp(-0.05)\n",
    "lr_cb = tf.keras.callbacks.LearningRateScheduler(scheduler)"
   ]
  },
  {
   "cell_type": "code",
   "execution_count": null,
   "metadata": {},
   "outputs": [],
   "source": [
    "tf.keras.backend.clear_session()\n",
    "tb_cb = create_tb_cb(\"linear\")\n",
    "Ldelay=100\n",
    "\n",
    "traffic = tf.keras.layers.Input(shape=(1000,))\n",
    "page = tf.keras.layers.Input(shape=())\n",
    "\n",
    "outputs = tf.keras.layers.Dense(units=output_len,input_dim=Ldelay)(traffic[:,-Ldelay:])\n",
    "\n",
    "model_linear = tf.keras.Model(inputs=[page, traffic], outputs=[outputs])\n",
    "\n",
    "model_linear.summary()\n",
    "\n",
    "model_linear.compile(loss=SmapeLoss(), optimizer=tf.optimizers.Adam(learning_rate=1e-4), \n",
    "                     metrics=[SmapeMetric()])"
   ]
  },
  {
   "cell_type": "code",
   "execution_count": null,
   "metadata": {},
   "outputs": [],
   "source": [
    "es_cb = tf.keras.callbacks.EarlyStopping(monitor='smape', min_delta=0.1, patience=5, verbose=0, restore_best_weights=True)\n",
    "\n",
    "#ds1.cache()\n",
    "features, target = get_model_inputs(df_ds[weekly_tone])\n",
    "feat_val, target_val = get_model_inputs(df_ds.iloc[:,:-50][weekly_tone])\n",
    "model_linear.fit(features, target, epochs=100, callbacks=[tb_cb, es_cb], batch_size=32, validation_data=(feat_val, target_val))\n",
    "model_linear.save(\"saved_model/model_linear\", save_format='tf')"
   ]
  },
  {
   "cell_type": "code",
   "execution_count": null,
   "metadata": {},
   "outputs": [],
   "source": [
    "plot_check_result(df_ds, rem_pages[0], [model_linear, med])"
   ]
  },
  {
   "cell_type": "code",
   "execution_count": null,
   "metadata": {},
   "outputs": [],
   "source": [
    "weights = model_linear.get_layer(\"dense\").get_weights()[0]\n",
    "\n",
    "f,ax = plt.subplots()\n",
    "ax.plot(np.abs(weights[:,0]))\n",
    "ax.grid()"
   ]
  },
  {
   "cell_type": "markdown",
   "metadata": {},
   "source": [
    "### RNN"
   ]
  },
  {
   "cell_type": "code",
   "execution_count": null,
   "metadata": {},
   "outputs": [],
   "source": [
    "#!rm -Rf logs/*"
   ]
  },
  {
   "cell_type": "code",
   "execution_count": null,
   "metadata": {},
   "outputs": [],
   "source": [
    "Nneurons = 20\n",
    "Nlayers = 1\n",
    "MaxTs = 100\n",
    "usePastYear = False\n",
    "useMetadata = False\n",
    "Seq2seq = True"
   ]
  },
  {
   "cell_type": "code",
   "execution_count": null,
   "metadata": {},
   "outputs": [],
   "source": [
    "tf.random.set_seed(42)\n",
    "\n",
    "simn = 'Ts'+str(MaxTs)+'-Nn'+str(Nneurons)+'-Nl'+str(Nlayers)\n",
    "\n",
    "tf.keras.backend.clear_session()\n",
    "tb_cb = create_tb_cb(simn)\n",
    "\n",
    "model_rnn = get_rnn_model(Seq2seq, Nneurons, Nlayers, MaxTs, usePastYear, useMetadata)\n",
    "\n",
    "#model_rnn.summary()"
   ]
  },
  {
   "cell_type": "code",
   "execution_count": null,
   "metadata": {},
   "outputs": [],
   "source": [
    "es_cb = tf.keras.callbacks.EarlyStopping(monitor='val_smape', min_delta=0.1, patience=5, verbose=0, restore_best_weights=True)\n",
    "\n",
    "weekly_pages = df_ds.loc[weekly_tone & (df_feat[\"access\"] == \"desktop_all-agents\")].index\n",
    "\n",
    "features, target = get_model_inputs(df_ds.loc[weekly_tone], \n",
    "                                    return_seq=Seq2seq*MaxTs)\n",
    "feat_val, target_val = get_model_inputs(df_ds.iloc[:,:-62].loc[weekly_tone], \n",
    "                                        return_seq=Seq2seq*MaxTs)\n",
    "\n",
    "model_rnn.fit(features, target, epochs=1, callbacks=[tb_cb, es_cb] , batch_size=1, validation_data=(feat_val, target_val))\n",
    "model_rnn.save(\"saved_model/model_rnn\")\n",
    "del feat_val, target_val, features, target\n",
    "gc.collect()"
   ]
  },
  {
   "cell_type": "markdown",
   "metadata": {},
   "source": [
    "### Mixed model\n",
    "\n",
    "For each web page, select the best between median and rnn "
   ]
  },
  {
   "cell_type": "code",
   "execution_count": null,
   "metadata": {},
   "outputs": [],
   "source": [
    "med = tf.keras.models.load_model('saved_model/median', custom_objects={'SmapeMetric': SmapeMetric,'SmapeLoss': SmapeLoss})\n",
    "model_linear = tf.keras.models.load_model('saved_model/model_linear', custom_objects={'SmapeMetric': SmapeMetric,'SmapeLoss': SmapeLoss})\n",
    "model_rnn = tf.keras.models.load_model('saved_model/model_rnn', custom_objects={'SmapeMetric': SmapeMetric,'SmapeLoss': SmapeLoss, \n",
    "                                                                                'OneHotEncodingLayer':OneHotEncodingLayer})"
   ]
  },
  {
   "cell_type": "code",
   "execution_count": null,
   "metadata": {},
   "outputs": [],
   "source": [
    "# build a seq2vec model with the same weights to save memand cpu in predict\n",
    "rnn_seq2vec = get_rnn_model(False, Nneurons=Nneurons, Nlayers=Nlayers, max_delay=MaxTs)\n",
    "rnn_seq2vec.get_layer(\"gru0\").set_weights(model_rnn.get_layer(\"gru0\").get_weights())\n",
    "rnn_seq2vec.get_layer(\"dense0\").set_weights(model_rnn.get_layer(\"td\").get_weights())\n",
    "#rnn_seq2vec.summary()"
   ]
  },
  {
   "cell_type": "code",
   "execution_count": null,
   "metadata": {},
   "outputs": [],
   "source": [
    "def smape_row(df_train, model):\n",
    "    features, ytrue = get_model_inputs(df_train.iloc[:,-MaxTs-output_len:])\n",
    "    def _smape_row(A, F):\n",
    "        return np.mean(100 * (2 * np.abs(F - A) / (np.abs(A) + np.abs(F) + np.finfo(float).eps)), axis=1)\n",
    "    return pd.Series(_smape_row(model.predict(features, batch_size=1000, verbose=1), ytrue), index=df_train.index)"
   ]
  },
  {
   "cell_type": "code",
   "execution_count": null,
   "metadata": {},
   "outputs": [],
   "source": [
    "# find best choice between linear and median, on cv_sz folds\n",
    "cv_sz = 3\n",
    "decal = 50\n",
    "\n",
    "best_accu = pd.Series(0, index=df_ds.index)\n",
    "for ii in range(cv_sz):\n",
    "    last_samp = df_ds.shape[1]-1-ii*decal\n",
    "    df_train = df_ds.iloc[:,last_samp-MaxTs-output_len:last_samp]\n",
    "    smape_scores =[]\n",
    "    for ii, model in enumerate([med, rnn_seq2vec]):\n",
    "        smape_scores.append(smape_row(df_train, model).rename(\"model_\"+str(ii)))\n",
    "    print(\"fold : {}, mixed smape : {:.1f}\".format( ii, pd.concat(smape_scores, axis=1).min(axis=1).mean()))\n",
    "    best_accu = best_accu + (pd.concat(smape_scores, axis=1).idxmin(axis=1) == \"model_0\").astype(float)/cv_sz\n",
    "    \n",
    "_ = gc.collect()\n"
   ]
  },
  {
   "cell_type": "code",
   "execution_count": null,
   "metadata": {},
   "outputs": [],
   "source": [
    "med_select = (best_accu>0).rename(\"feat_median_sel\")*1\n",
    "med_select.to_csv(\"median_select.csv\")"
   ]
  },
  {
   "cell_type": "code",
   "execution_count": null,
   "metadata": {},
   "outputs": [],
   "source": [
    "tf.keras.backend.clear_session()\n",
    "tb_cb = create_tb_cb(\"mixed\")\n",
    "\n",
    "traffic = tf.keras.layers.Input(shape=(MaxTs,), dtype=tf.int32)\n",
    "page = tf.keras.layers.Input(shape=(), dtype=object)\n",
    "algo_select = tf.keras.layers.Input(shape=(), dtype=tf.int32)\n",
    "\n",
    "\n",
    "o_lin = rnn_seq2vec([page, traffic])\n",
    "o_med = med([page, traffic])\n",
    "    \n",
    "outputs =  o_lin * tf.tile(tf.expand_dims(tf.cast(1-algo_select, o_lin.dtype),1),[1,62])\n",
    "outputs =  outputs + o_med * tf.tile(tf.expand_dims(tf.cast(algo_select, o_med.dtype),1),[1,62])\n",
    "\n",
    "mixed_model = tf.keras.Model(inputs=[page, traffic, algo_select], outputs=[outputs])\n",
    "\n",
    "mixed_model.compile(loss=SmapeLoss(), optimizer=tf.optimizers.Adam(learning_rate=1e-4), metrics=[SmapeMetric()])"
   ]
  },
  {
   "cell_type": "code",
   "execution_count": null,
   "metadata": {},
   "outputs": [],
   "source": [
    "features, ytrue = get_model_inputs(df_ds.iloc[:,-MaxTs-output_len -50:-50].join(med_select))\n",
    "mixed_model.evaluate(features, ytrue, batch_size=1000)"
   ]
  },
  {
   "cell_type": "code",
   "execution_count": null,
   "metadata": {},
   "outputs": [],
   "source": [
    "features, ytrue = get_model_inputs(df_ds.iloc[:,-MaxTs-output_len -50:-50])\n",
    "med.evaluate(features, ytrue, batch_size=1000)"
   ]
  },
  {
   "cell_type": "code",
   "execution_count": null,
   "metadata": {},
   "outputs": [],
   "source": [
    "mixed_model.save(\"saved_model/mixed_model\", save_format='tf')"
   ]
  },
  {
   "cell_type": "code",
   "execution_count": null,
   "metadata": {},
   "outputs": [],
   "source": [
    "del features, ytrue\n",
    "gc.collect()"
   ]
  },
  {
   "cell_type": "code",
   "execution_count": null,
   "metadata": {},
   "outputs": [],
   "source": [
    "plot_check_result(df_ds.iloc[:,-MaxTs-62:].join(med_select), rem_pages[0], [mixed_model, med])"
   ]
  },
  {
   "cell_type": "markdown",
   "metadata": {},
   "source": [
    "### ouput"
   ]
  },
  {
   "cell_type": "code",
   "execution_count": null,
   "metadata": {},
   "outputs": [],
   "source": [
    "key = pd.read_csv(\"key_2.csv.zip\").set_index(\"Page\")"
   ]
  },
  {
   "cell_type": "code",
   "execution_count": null,
   "metadata": {},
   "outputs": [],
   "source": [
    "key[\"Visits\"] = 0"
   ]
  },
  {
   "cell_type": "code",
   "execution_count": null,
   "metadata": {},
   "outputs": [],
   "source": [
    "def output_form(features, _model=None):\n",
    "    \"\"\" return a serie indexed by Page \"\"\"\n",
    "    out_date = pd.date_range(start=\"2017-09-13\", end=\"2017-11-13\", freq=\"1D\").strftime(\"%Y-%m-%d\").to_list()\n",
    "    num_pred = np.clip(_model.predict(features, batch_size=1000, verbose=1).astype(int), a_min=0, a_max=None)\n",
    "    index = df_ds.index  # np.char.decode(features[0].numpy().astype(bytes))\n",
    "    ret = pd.DataFrame(num_pred, columns=out_date, index=index).stack().rename(\"Visits\")\n",
    "    ret.index = [ii[0]+\"_\"+ii[1] for ii in ret.index]\n",
    "    return ret"
   ]
  },
  {
   "cell_type": "code",
   "execution_count": null,
   "metadata": {},
   "outputs": [],
   "source": [
    "features = [tf.convert_to_tensor(df_ds.index), df_ds.values[:,-MaxTs:], tf.convert_to_tensor(med_select)]\n",
    "\n",
    "Visits_pred = output_form(features, mixed_model)\n",
    "Visits_pred.head()"
   ]
  },
  {
   "cell_type": "code",
   "execution_count": null,
   "metadata": {},
   "outputs": [],
   "source": [
    "key.loc[Visits_pred.index, \"Visits\"] = Visits_pred.astype(int)"
   ]
  },
  {
   "cell_type": "code",
   "execution_count": null,
   "metadata": {},
   "outputs": [],
   "source": [
    "key.to_csv(\"subm_mixed.csv\", encoding='utf-8', index=False)"
   ]
  },
  {
   "cell_type": "code",
   "execution_count": null,
   "metadata": {},
   "outputs": [],
   "source": [
    "!kaggle competitions submit -f subm_mixed.csv -m \"mixed med/rnn (fav med)\"  web-traffic-time-series-forecasting"
   ]
  },
  {
   "cell_type": "code",
   "execution_count": null,
   "metadata": {},
   "outputs": [],
   "source": [
    "del Visits_pred, key ,features\n",
    "gc.collect()"
   ]
  },
  {
   "cell_type": "code",
   "execution_count": null,
   "metadata": {},
   "outputs": [],
   "source": []
  }
 ],
 "metadata": {
  "kernelspec": {
   "display_name": "tf",
   "language": "python",
   "name": "tf"
  },
  "language_info": {
   "codemirror_mode": {
    "name": "ipython",
    "version": 3
   },
   "file_extension": ".py",
   "mimetype": "text/x-python",
   "name": "python",
   "nbconvert_exporter": "python",
   "pygments_lexer": "ipython3",
   "version": "3.8.8"
  }
 },
 "nbformat": 4,
 "nbformat_minor": 4
}
