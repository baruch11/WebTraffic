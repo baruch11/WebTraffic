{
 "cells": [
  {
   "cell_type": "code",
   "execution_count": 1,
   "metadata": {},
   "outputs": [],
   "source": [
    "import pandas as pd\n",
    "import numpy as np\n",
    "import matplotlib.pyplot as plt"
   ]
  },
  {
   "cell_type": "markdown",
   "metadata": {},
   "source": [
    "## Exploration"
   ]
  },
  {
   "cell_type": "code",
   "execution_count": 2,
   "metadata": {},
   "outputs": [],
   "source": [
    "import pandas as pd\n",
    "import random\n",
    "p = 0.2  # 1% of the lines\n",
    "# keep the header, then take only 1% of lines\n",
    "# if random from [0,1] interval is greater than 0.01 the row will be skipped\n",
    "df = pd.read_csv(\n",
    "         \"train_2.csv.zip\",\n",
    "         header=0, \n",
    "         skiprows=lambda i: i>0 and random.random() > p\n",
    ")\n",
    "df = df.sample(frac=1).reset_index(drop=True).fillna(0)\n",
    "Page = df.Page\n",
    "agent = Page.apply(lambda x: x.split(\"_\")[-1])\n",
    "access = Page.apply(lambda x: x.split(\"_\")[-2])\n",
    "wikiproject = Page.apply(lambda x: x.split(\"_\")[-3])\n",
    "page_name = Page.apply(lambda x: \"_\".join(x.split(\"_\")[:-3]))\n",
    "df.drop(columns=[\"Page\"], inplace=True)"
   ]
  },
  {
   "cell_type": "code",
   "execution_count": 3,
   "metadata": {},
   "outputs": [
    {
     "data": {
      "text/html": [
       "<div>\n",
       "<style scoped>\n",
       "    .dataframe tbody tr th:only-of-type {\n",
       "        vertical-align: middle;\n",
       "    }\n",
       "\n",
       "    .dataframe tbody tr th {\n",
       "        vertical-align: top;\n",
       "    }\n",
       "\n",
       "    .dataframe thead th {\n",
       "        text-align: right;\n",
       "    }\n",
       "</style>\n",
       "<table border=\"1\" class=\"dataframe\">\n",
       "  <thead>\n",
       "    <tr style=\"text-align: right;\">\n",
       "      <th></th>\n",
       "      <th>2017-09-09</th>\n",
       "      <th>2017-09-10</th>\n",
       "    </tr>\n",
       "  </thead>\n",
       "  <tbody>\n",
       "    <tr>\n",
       "      <th>0</th>\n",
       "      <td>45.0</td>\n",
       "      <td>37.0</td>\n",
       "    </tr>\n",
       "    <tr>\n",
       "      <th>1</th>\n",
       "      <td>7942.0</td>\n",
       "      <td>7531.0</td>\n",
       "    </tr>\n",
       "    <tr>\n",
       "      <th>2</th>\n",
       "      <td>620.0</td>\n",
       "      <td>5064.0</td>\n",
       "    </tr>\n",
       "    <tr>\n",
       "      <th>3</th>\n",
       "      <td>17.0</td>\n",
       "      <td>8.0</td>\n",
       "    </tr>\n",
       "    <tr>\n",
       "      <th>4</th>\n",
       "      <td>3547.0</td>\n",
       "      <td>0.0</td>\n",
       "    </tr>\n",
       "    <tr>\n",
       "      <th>...</th>\n",
       "      <td>...</td>\n",
       "      <td>...</td>\n",
       "    </tr>\n",
       "    <tr>\n",
       "      <th>29055</th>\n",
       "      <td>1.0</td>\n",
       "      <td>1.0</td>\n",
       "    </tr>\n",
       "    <tr>\n",
       "      <th>29056</th>\n",
       "      <td>109.0</td>\n",
       "      <td>141.0</td>\n",
       "    </tr>\n",
       "    <tr>\n",
       "      <th>29057</th>\n",
       "      <td>8.0</td>\n",
       "      <td>6.0</td>\n",
       "    </tr>\n",
       "    <tr>\n",
       "      <th>29058</th>\n",
       "      <td>62.0</td>\n",
       "      <td>68.0</td>\n",
       "    </tr>\n",
       "    <tr>\n",
       "      <th>29059</th>\n",
       "      <td>1160.0</td>\n",
       "      <td>1047.0</td>\n",
       "    </tr>\n",
       "  </tbody>\n",
       "</table>\n",
       "<p>29060 rows × 2 columns</p>\n",
       "</div>"
      ],
      "text/plain": [
       "       2017-09-09  2017-09-10\n",
       "0            45.0        37.0\n",
       "1          7942.0      7531.0\n",
       "2           620.0      5064.0\n",
       "3            17.0         8.0\n",
       "4          3547.0         0.0\n",
       "...           ...         ...\n",
       "29055         1.0         1.0\n",
       "29056       109.0       141.0\n",
       "29057         8.0         6.0\n",
       "29058        62.0        68.0\n",
       "29059      1160.0      1047.0\n",
       "\n",
       "[29060 rows x 2 columns]"
      ]
     },
     "execution_count": 3,
     "metadata": {},
     "output_type": "execute_result"
    }
   ],
   "source": [
    "df[['2017-09-09', '2017-09-10']]"
   ]
  },
  {
   "cell_type": "code",
   "execution_count": 4,
   "metadata": {},
   "outputs": [
    {
     "data": {
      "text/plain": [
       "[<matplotlib.lines.Line2D at 0x7f87b9b0df40>]"
      ]
     },
     "execution_count": 4,
     "metadata": {},
     "output_type": "execute_result"
    },
    {
     "data": {
      "image/png": "[encoded data removed]",
      "text/plain": [
       "<Figure size 432x288 with 1 Axes>"
      ]
     },
     "metadata": {
      "needs_background": "light"
     },
     "output_type": "display_data"
    }
   ],
   "source": [
    "f, ax = plt.subplots()\n",
    "ax.plot(agent)\n",
    "ax.plot(access)\n",
    "ax.plot(wikiproject)"
   ]
  },
  {
   "cell_type": "code",
   "execution_count": 5,
   "metadata": {},
   "outputs": [
    {
     "data": {
      "text/html": [
       "<div>\n",
       "<style scoped>\n",
       "    .dataframe tbody tr th:only-of-type {\n",
       "        vertical-align: middle;\n",
       "    }\n",
       "\n",
       "    .dataframe tbody tr th {\n",
       "        vertical-align: top;\n",
       "    }\n",
       "\n",
       "    .dataframe thead th {\n",
       "        text-align: right;\n",
       "    }\n",
       "</style>\n",
       "<table border=\"1\" class=\"dataframe\">\n",
       "  <thead>\n",
       "    <tr style=\"text-align: right;\">\n",
       "      <th>Page</th>\n",
       "      <th>Andrei_Igorewitsch_Melnitschenko_de.wikipedia.org_desktop_all-agents</th>\n",
       "      <th>Liev_Schreiber_en.wikipedia.org_mobile-web_all-agents</th>\n",
       "      <th>築山殿_ja.wikipedia.org_mobile-web_all-agents</th>\n",
       "      <th>Земноводные_ru.wikipedia.org_all-access_spider</th>\n",
       "      <th>J._Cole_en.wikipedia.org_all-access_all-agents</th>\n",
       "    </tr>\n",
       "  </thead>\n",
       "  <tbody>\n",
       "    <tr>\n",
       "      <th>0</th>\n",
       "      <td>19.0</td>\n",
       "      <td>5.0</td>\n",
       "      <td>22.0</td>\n",
       "      <td>10.0</td>\n",
       "      <td>19.0</td>\n",
       "    </tr>\n",
       "    <tr>\n",
       "      <th>1</th>\n",
       "      <td>18.0</td>\n",
       "      <td>7.0</td>\n",
       "      <td>39.0</td>\n",
       "      <td>2.0</td>\n",
       "      <td>19.0</td>\n",
       "    </tr>\n",
       "    <tr>\n",
       "      <th>2</th>\n",
       "      <td>10.0</td>\n",
       "      <td>7.0</td>\n",
       "      <td>19.0</td>\n",
       "      <td>4.0</td>\n",
       "      <td>18.0</td>\n",
       "    </tr>\n",
       "    <tr>\n",
       "      <th>3</th>\n",
       "      <td>16.0</td>\n",
       "      <td>4.0</td>\n",
       "      <td>19.0</td>\n",
       "      <td>5.0</td>\n",
       "      <td>8.0</td>\n",
       "    </tr>\n",
       "    <tr>\n",
       "      <th>4</th>\n",
       "      <td>6.0</td>\n",
       "      <td>4.0</td>\n",
       "      <td>20.0</td>\n",
       "      <td>1.0</td>\n",
       "      <td>5.0</td>\n",
       "    </tr>\n",
       "    <tr>\n",
       "      <th>...</th>\n",
       "      <td>...</td>\n",
       "      <td>...</td>\n",
       "      <td>...</td>\n",
       "      <td>...</td>\n",
       "      <td>...</td>\n",
       "    </tr>\n",
       "    <tr>\n",
       "      <th>798</th>\n",
       "      <td>15.0</td>\n",
       "      <td>5.0</td>\n",
       "      <td>20.0</td>\n",
       "      <td>6.0</td>\n",
       "      <td>25.0</td>\n",
       "    </tr>\n",
       "    <tr>\n",
       "      <th>799</th>\n",
       "      <td>16.0</td>\n",
       "      <td>9.0</td>\n",
       "      <td>19.0</td>\n",
       "      <td>7.0</td>\n",
       "      <td>10.0</td>\n",
       "    </tr>\n",
       "    <tr>\n",
       "      <th>800</th>\n",
       "      <td>5.0</td>\n",
       "      <td>2.0</td>\n",
       "      <td>25.0</td>\n",
       "      <td>4.0</td>\n",
       "      <td>18.0</td>\n",
       "    </tr>\n",
       "    <tr>\n",
       "      <th>801</th>\n",
       "      <td>17.0</td>\n",
       "      <td>7.0</td>\n",
       "      <td>26.0</td>\n",
       "      <td>11.0</td>\n",
       "      <td>51.0</td>\n",
       "    </tr>\n",
       "    <tr>\n",
       "      <th>802</th>\n",
       "      <td>8.0</td>\n",
       "      <td>4.0</td>\n",
       "      <td>79.0</td>\n",
       "      <td>0.0</td>\n",
       "      <td>16.0</td>\n",
       "    </tr>\n",
       "  </tbody>\n",
       "</table>\n",
       "<p>803 rows × 5 columns</p>\n",
       "</div>"
      ],
      "text/plain": [
       "Page  Andrei_Igorewitsch_Melnitschenko_de.wikipedia.org_desktop_all-agents  \\\n",
       "0                                                  19.0                      \n",
       "1                                                  18.0                      \n",
       "2                                                  10.0                      \n",
       "3                                                  16.0                      \n",
       "4                                                   6.0                      \n",
       "..                                                  ...                      \n",
       "798                                                15.0                      \n",
       "799                                                16.0                      \n",
       "800                                                 5.0                      \n",
       "801                                                17.0                      \n",
       "802                                                 8.0                      \n",
       "\n",
       "Page  Liev_Schreiber_en.wikipedia.org_mobile-web_all-agents  \\\n",
       "0                                                   5.0       \n",
       "1                                                   7.0       \n",
       "2                                                   7.0       \n",
       "3                                                   4.0       \n",
       "4                                                   4.0       \n",
       "..                                                  ...       \n",
       "798                                                 5.0       \n",
       "799                                                 9.0       \n",
       "800                                                 2.0       \n",
       "801                                                 7.0       \n",
       "802                                                 4.0       \n",
       "\n",
       "Page  築山殿_ja.wikipedia.org_mobile-web_all-agents  \\\n",
       "0                                           22.0   \n",
       "1                                           39.0   \n",
       "2                                           19.0   \n",
       "3                                           19.0   \n",
       "4                                           20.0   \n",
       "..                                           ...   \n",
       "798                                         20.0   \n",
       "799                                         19.0   \n",
       "800                                         25.0   \n",
       "801                                         26.0   \n",
       "802                                         79.0   \n",
       "\n",
       "Page  Земноводные_ru.wikipedia.org_all-access_spider  \\\n",
       "0                                               10.0   \n",
       "1                                                2.0   \n",
       "2                                                4.0   \n",
       "3                                                5.0   \n",
       "4                                                1.0   \n",
       "..                                               ...   \n",
       "798                                              6.0   \n",
       "799                                              7.0   \n",
       "800                                              4.0   \n",
       "801                                             11.0   \n",
       "802                                              0.0   \n",
       "\n",
       "Page  J._Cole_en.wikipedia.org_all-access_all-agents  \n",
       "0                                               19.0  \n",
       "1                                               19.0  \n",
       "2                                               18.0  \n",
       "3                                                8.0  \n",
       "4                                                5.0  \n",
       "..                                               ...  \n",
       "798                                             25.0  \n",
       "799                                             10.0  \n",
       "800                                             18.0  \n",
       "801                                             51.0  \n",
       "802                                             16.0  \n",
       "\n",
       "[803 rows x 5 columns]"
      ]
     },
     "execution_count": 5,
     "metadata": {},
     "output_type": "execute_result"
    }
   ],
   "source": [
    "tmp = df.loc[agent==\"spider\"].head().T.reset_index(drop=True)\n",
    "tmp.columns = Page.head()\n",
    "tmp"
   ]
  },
  {
   "cell_type": "code",
   "execution_count": 6,
   "metadata": {},
   "outputs": [
    {
     "name": "stderr",
     "output_type": "stream",
     "text": [
      "/home/cprat/anaconda3/envs/tf/lib/python3.8/site-packages/matplotlib/backends/backend_agg.py:238: RuntimeWarning: Glyph 31689 missing from current font.\n",
      "  font.set_text(s, 0.0, flags=flags)\n",
      "/home/cprat/anaconda3/envs/tf/lib/python3.8/site-packages/matplotlib/backends/backend_agg.py:238: RuntimeWarning: Glyph 23665 missing from current font.\n",
      "  font.set_text(s, 0.0, flags=flags)\n",
      "/home/cprat/anaconda3/envs/tf/lib/python3.8/site-packages/matplotlib/backends/backend_agg.py:238: RuntimeWarning: Glyph 27583 missing from current font.\n",
      "  font.set_text(s, 0.0, flags=flags)\n",
      "/home/cprat/anaconda3/envs/tf/lib/python3.8/site-packages/matplotlib/backends/backend_agg.py:201: RuntimeWarning: Glyph 31689 missing from current font.\n",
      "  font.set_text(s, 0, flags=flags)\n",
      "/home/cprat/anaconda3/envs/tf/lib/python3.8/site-packages/matplotlib/backends/backend_agg.py:201: RuntimeWarning: Glyph 23665 missing from current font.\n",
      "  font.set_text(s, 0, flags=flags)\n",
      "/home/cprat/anaconda3/envs/tf/lib/python3.8/site-packages/matplotlib/backends/backend_agg.py:201: RuntimeWarning: Glyph 27583 missing from current font.\n",
      "  font.set_text(s, 0, flags=flags)\n"
     ]
    },
    {
     "data": {
      "image/png": "[encoded data removed]",
      "text/plain": [
       "<Figure size 432x288 with 1 Axes>"
      ]
     },
     "metadata": {
      "needs_background": "light"
     },
     "output_type": "display_data"
    }
   ],
   "source": [
    "f, ax = plt.subplots()\n",
    "line = ax.plot(df.loc[agent==\"spider\"].head().T.reset_index(drop=True))\n",
    "ax.legend(line, Page.head())\n",
    "plt.show()"
   ]
  },
  {
   "cell_type": "markdown",
   "metadata": {},
   "source": [
    "### SMAPE"
   ]
  },
  {
   "cell_type": "code",
   "execution_count": 7,
   "metadata": {},
   "outputs": [],
   "source": [
    "def smape_np(A, F):\n",
    "    return 100/A.size * np.sum(2 * np.abs(F - A) / (np.abs(A) + np.abs(F) + np.finfo(float).eps))"
   ]
  },
  {
   "cell_type": "code",
   "execution_count": 8,
   "metadata": {},
   "outputs": [],
   "source": [
    "def last_repeated_estimator(ts_prev):\n",
    "    \"\"\" ts_prev : matrix (m, Ts) \"\"\"\n",
    "    return np.tile(ts_prev[:,-1].reshape(-1,1), (1,62))"
   ]
  },
  {
   "cell_type": "code",
   "execution_count": 9,
   "metadata": {},
   "outputs": [],
   "source": [
    "Dnum = df.fillna(0).values[:,5:]"
   ]
  },
  {
   "cell_type": "code",
   "execution_count": 10,
   "metadata": {},
   "outputs": [
    {
     "data": {
      "text/plain": [
       "185.7250145322011"
      ]
     },
     "execution_count": 10,
     "metadata": {},
     "output_type": "execute_result"
    }
   ],
   "source": [
    "smape_np(np.zeros_like(Dnum), Dnum)"
   ]
  },
  {
   "cell_type": "code",
   "execution_count": 11,
   "metadata": {},
   "outputs": [
    {
     "data": {
      "text/plain": [
       "71.90089724769227"
      ]
     },
     "execution_count": 11,
     "metadata": {},
     "output_type": "execute_result"
    }
   ],
   "source": [
    "Mmean = np.tile(np.mean(Dnum, 1).reshape(-1,1) , (1,Dnum.shape[1]))\n",
    "smape_np(Mmean, Dnum)"
   ]
  },
  {
   "cell_type": "markdown",
   "metadata": {},
   "source": [
    "### Autocorrelation"
   ]
  },
  {
   "cell_type": "code",
   "execution_count": 12,
   "metadata": {},
   "outputs": [],
   "source": [
    "def estimated_autocorrelation(x):\n",
    "    \"\"\"\n",
    "    http://stackoverflow.com/q/14297012/190597\n",
    "    http://en.wikipedia.org/wiki/Autocorrelation#Estimation\n",
    "    \"\"\"\n",
    "    n = len(x)\n",
    "    variance = x.var()\n",
    "    x = x-x.mean()\n",
    "    r = np.correlate(x, x, mode = 'full')[-n:]\n",
    "    assert np.allclose(r, np.array([(x[:n-k]*x[-(n-k):]).sum() for k in range(n)]))\n",
    "    result = r/(variance*(np.arange(n, 0, -1)))\n",
    "    return result"
   ]
  },
  {
   "cell_type": "code",
   "execution_count": 13,
   "metadata": {},
   "outputs": [
    {
     "data": {
      "image/png": "[encoded data removed]",
      "text/plain": [
       "<Figure size 432x288 with 1 Axes>"
      ]
     },
     "metadata": {
      "needs_background": "light"
     },
     "output_type": "display_data"
    }
   ],
   "source": [
    "df_allagent = df.loc[agent==\"all-agents\"]\n",
    "\n",
    "\n",
    "\n",
    "f, ax = plt.subplots()\n",
    "ax.plot(estimated_autocorrelation(df_allagent.iloc[0,:].values))\n",
    "#ax.plot(estimated_autocorrelation(df_allagent.iloc[1,:].values))\n",
    "ax.plot(estimated_autocorrelation(df_allagent.iloc[2,:].values))\n",
    "ax.plot(estimated_autocorrelation(df_allagent.iloc[3,:].values))\n",
    "ax.scatter(365,0,s=10,c=\"r\")\n",
    "ax.grid()"
   ]
  },
  {
   "cell_type": "markdown",
   "metadata": {},
   "source": [
    "##### dataset"
   ]
  },
  {
   "cell_type": "code",
   "execution_count": 14,
   "metadata": {},
   "outputs": [],
   "source": [
    "Mtraffic = df.values"
   ]
  },
  {
   "cell_type": "code",
   "execution_count": 15,
   "metadata": {},
   "outputs": [
    {
     "data": {
      "text/html": [
       "<div>\n",
       "<style scoped>\n",
       "    .dataframe tbody tr th:only-of-type {\n",
       "        vertical-align: middle;\n",
       "    }\n",
       "\n",
       "    .dataframe tbody tr th {\n",
       "        vertical-align: top;\n",
       "    }\n",
       "\n",
       "    .dataframe thead th {\n",
       "        text-align: right;\n",
       "    }\n",
       "</style>\n",
       "<table border=\"1\" class=\"dataframe\">\n",
       "  <thead>\n",
       "    <tr style=\"text-align: right;\">\n",
       "      <th></th>\n",
       "      <th>2015-07-01</th>\n",
       "      <th>2015-07-02</th>\n",
       "      <th>2015-07-03</th>\n",
       "      <th>2015-07-04</th>\n",
       "      <th>2015-07-05</th>\n",
       "      <th>2015-07-06</th>\n",
       "      <th>2015-07-07</th>\n",
       "      <th>2015-07-08</th>\n",
       "      <th>2015-07-09</th>\n",
       "      <th>2015-07-10</th>\n",
       "      <th>...</th>\n",
       "      <th>2017-09-01</th>\n",
       "      <th>2017-09-02</th>\n",
       "      <th>2017-09-03</th>\n",
       "      <th>2017-09-04</th>\n",
       "      <th>2017-09-05</th>\n",
       "      <th>2017-09-06</th>\n",
       "      <th>2017-09-07</th>\n",
       "      <th>2017-09-08</th>\n",
       "      <th>2017-09-09</th>\n",
       "      <th>2017-09-10</th>\n",
       "    </tr>\n",
       "  </thead>\n",
       "  <tbody>\n",
       "    <tr>\n",
       "      <th>0</th>\n",
       "      <td>45.0</td>\n",
       "      <td>159.0</td>\n",
       "      <td>200.0</td>\n",
       "      <td>63.0</td>\n",
       "      <td>35.0</td>\n",
       "      <td>157.0</td>\n",
       "      <td>39.0</td>\n",
       "      <td>24.0</td>\n",
       "      <td>31.0</td>\n",
       "      <td>22.0</td>\n",
       "      <td>...</td>\n",
       "      <td>40.0</td>\n",
       "      <td>36.0</td>\n",
       "      <td>81.0</td>\n",
       "      <td>116.0</td>\n",
       "      <td>106.0</td>\n",
       "      <td>77.0</td>\n",
       "      <td>86.0</td>\n",
       "      <td>70.0</td>\n",
       "      <td>45.0</td>\n",
       "      <td>37.0</td>\n",
       "    </tr>\n",
       "    <tr>\n",
       "      <th>1</th>\n",
       "      <td>2708.0</td>\n",
       "      <td>8810.0</td>\n",
       "      <td>4759.0</td>\n",
       "      <td>4804.0</td>\n",
       "      <td>6876.0</td>\n",
       "      <td>4940.0</td>\n",
       "      <td>4647.0</td>\n",
       "      <td>4840.0</td>\n",
       "      <td>4836.0</td>\n",
       "      <td>4825.0</td>\n",
       "      <td>...</td>\n",
       "      <td>5176.0</td>\n",
       "      <td>6061.0</td>\n",
       "      <td>7415.0</td>\n",
       "      <td>6594.0</td>\n",
       "      <td>5305.0</td>\n",
       "      <td>8509.0</td>\n",
       "      <td>24387.0</td>\n",
       "      <td>12411.0</td>\n",
       "      <td>7942.0</td>\n",
       "      <td>7531.0</td>\n",
       "    </tr>\n",
       "    <tr>\n",
       "      <th>2</th>\n",
       "      <td>104.0</td>\n",
       "      <td>81.0</td>\n",
       "      <td>64.0</td>\n",
       "      <td>143.0</td>\n",
       "      <td>115.0</td>\n",
       "      <td>117.0</td>\n",
       "      <td>107.0</td>\n",
       "      <td>114.0</td>\n",
       "      <td>103.0</td>\n",
       "      <td>164.0</td>\n",
       "      <td>...</td>\n",
       "      <td>377.0</td>\n",
       "      <td>767.0</td>\n",
       "      <td>1440.0</td>\n",
       "      <td>881.0</td>\n",
       "      <td>494.0</td>\n",
       "      <td>479.0</td>\n",
       "      <td>341.0</td>\n",
       "      <td>339.0</td>\n",
       "      <td>620.0</td>\n",
       "      <td>5064.0</td>\n",
       "    </tr>\n",
       "    <tr>\n",
       "      <th>4</th>\n",
       "      <td>7065.0</td>\n",
       "      <td>6567.0</td>\n",
       "      <td>6062.0</td>\n",
       "      <td>5370.0</td>\n",
       "      <td>5201.0</td>\n",
       "      <td>6310.0</td>\n",
       "      <td>6342.0</td>\n",
       "      <td>6483.0</td>\n",
       "      <td>6705.0</td>\n",
       "      <td>6283.0</td>\n",
       "      <td>...</td>\n",
       "      <td>4034.0</td>\n",
       "      <td>4047.0</td>\n",
       "      <td>4474.0</td>\n",
       "      <td>4193.0</td>\n",
       "      <td>4135.0</td>\n",
       "      <td>3932.0</td>\n",
       "      <td>4348.0</td>\n",
       "      <td>3736.0</td>\n",
       "      <td>3547.0</td>\n",
       "      <td>0.0</td>\n",
       "    </tr>\n",
       "    <tr>\n",
       "      <th>5</th>\n",
       "      <td>0.0</td>\n",
       "      <td>0.0</td>\n",
       "      <td>0.0</td>\n",
       "      <td>0.0</td>\n",
       "      <td>0.0</td>\n",
       "      <td>0.0</td>\n",
       "      <td>0.0</td>\n",
       "      <td>0.0</td>\n",
       "      <td>0.0</td>\n",
       "      <td>0.0</td>\n",
       "      <td>...</td>\n",
       "      <td>5.0</td>\n",
       "      <td>3.0</td>\n",
       "      <td>4.0</td>\n",
       "      <td>4.0</td>\n",
       "      <td>2.0</td>\n",
       "      <td>5.0</td>\n",
       "      <td>2.0</td>\n",
       "      <td>3.0</td>\n",
       "      <td>5.0</td>\n",
       "      <td>1.0</td>\n",
       "    </tr>\n",
       "  </tbody>\n",
       "</table>\n",
       "<p>5 rows × 803 columns</p>\n",
       "</div>"
      ],
      "text/plain": [
       "   2015-07-01  2015-07-02  2015-07-03  2015-07-04  2015-07-05  2015-07-06  \\\n",
       "0        45.0       159.0       200.0        63.0        35.0       157.0   \n",
       "1      2708.0      8810.0      4759.0      4804.0      6876.0      4940.0   \n",
       "2       104.0        81.0        64.0       143.0       115.0       117.0   \n",
       "4      7065.0      6567.0      6062.0      5370.0      5201.0      6310.0   \n",
       "5         0.0         0.0         0.0         0.0         0.0         0.0   \n",
       "\n",
       "   2015-07-07  2015-07-08  2015-07-09  2015-07-10  ...  2017-09-01  \\\n",
       "0        39.0        24.0        31.0        22.0  ...        40.0   \n",
       "1      4647.0      4840.0      4836.0      4825.0  ...      5176.0   \n",
       "2       107.0       114.0       103.0       164.0  ...       377.0   \n",
       "4      6342.0      6483.0      6705.0      6283.0  ...      4034.0   \n",
       "5         0.0         0.0         0.0         0.0  ...         5.0   \n",
       "\n",
       "   2017-09-02  2017-09-03  2017-09-04  2017-09-05  2017-09-06  2017-09-07  \\\n",
       "0        36.0        81.0       116.0       106.0        77.0        86.0   \n",
       "1      6061.0      7415.0      6594.0      5305.0      8509.0     24387.0   \n",
       "2       767.0      1440.0       881.0       494.0       479.0       341.0   \n",
       "4      4047.0      4474.0      4193.0      4135.0      3932.0      4348.0   \n",
       "5         3.0         4.0         4.0         2.0         5.0         2.0   \n",
       "\n",
       "   2017-09-08  2017-09-09  2017-09-10  \n",
       "0        70.0        45.0        37.0  \n",
       "1     12411.0      7942.0      7531.0  \n",
       "2       339.0       620.0      5064.0  \n",
       "4      3736.0      3547.0         0.0  \n",
       "5         3.0         5.0         1.0  \n",
       "\n",
       "[5 rows x 803 columns]"
      ]
     },
     "execution_count": 15,
     "metadata": {},
     "output_type": "execute_result"
    }
   ],
   "source": [
    "df_allagent.head()"
   ]
  },
  {
   "cell_type": "code",
   "execution_count": 16,
   "metadata": {},
   "outputs": [
    {
     "data": {
      "text/plain": [
       "(29060, 803)"
      ]
     },
     "execution_count": 16,
     "metadata": {},
     "output_type": "execute_result"
    }
   ],
   "source": [
    "Mtraffic.shape"
   ]
  },
  {
   "cell_type": "code",
   "execution_count": 17,
   "metadata": {},
   "outputs": [],
   "source": [
    "output_len = 62\n",
    "\n",
    "Ltst = 1000\n",
    "Ltr = Mtraffic.shape[0] - 2*Ltst\n",
    "shift_start = 0"
   ]
  },
  {
   "cell_type": "code",
   "execution_count": 18,
   "metadata": {},
   "outputs": [],
   "source": [
    "x_train, y_train = Mtraffic[:Ltr,shift_start:-output_len], Mtraffic[:Ltr,-output_len:]\n",
    "x_valid, y_valid = Mtraffic[Ltr:Ltr+Ltst, shift_start:-output_len], Mtraffic[Ltr:Ltr+Ltst,-output_len:]\n",
    "x_test, y_test = Mtraffic[Ltr+Ltst:, shift_start:-output_len], Mtraffic[Ltr+Ltst:,-output_len:]"
   ]
  },
  {
   "cell_type": "code",
   "execution_count": 19,
   "metadata": {},
   "outputs": [
    {
     "data": {
      "text/plain": [
       "array([  5807.,  62330.,  60039., ...,  37186.,  13237., 323269.])"
      ]
     },
     "execution_count": 19,
     "metadata": {},
     "output_type": "execute_result"
    }
   ],
   "source": [
    "np.max(x_train, axis=1)"
   ]
  },
  {
   "cell_type": "code",
   "execution_count": 20,
   "metadata": {},
   "outputs": [
    {
     "data": {
      "text/plain": [
       "((27060, 741), (1000, 741), (27060, 62))"
      ]
     },
     "execution_count": 20,
     "metadata": {},
     "output_type": "execute_result"
    }
   ],
   "source": [
    "x_train.shape, y_train.shape\n",
    "x_train.shape, x_valid.shape, y_train.shape"
   ]
  },
  {
   "cell_type": "markdown",
   "metadata": {},
   "source": [
    "### Models"
   ]
  },
  {
   "cell_type": "code",
   "execution_count": 21,
   "metadata": {},
   "outputs": [],
   "source": [
    "import tensorflow as tf"
   ]
  },
  {
   "cell_type": "code",
   "execution_count": 22,
   "metadata": {},
   "outputs": [],
   "source": [
    "def smape(A, F):\n",
    "    return tf.reduce_mean(2 * tf.math.abs(F - A) / (tf.math.abs(A) + tf.math.abs(F) + 2e-16)) * 100 "
   ]
  },
  {
   "cell_type": "code",
   "execution_count": 23,
   "metadata": {},
   "outputs": [],
   "source": [
    "#tensorboard callbacks\n",
    "from datetime import datetime\n",
    "datetime.now().strftime(\"%H-%M-%S\")\n",
    "def create_tb_cb(model_name):\n",
    "    return tf.keras.callbacks.TensorBoard(log_dir=\"./logs/\"+model_name+\"-\"+datetime.now().strftime(\"%H-%M-%S\"))"
   ]
  },
  {
   "cell_type": "markdown",
   "metadata": {},
   "source": [
    "###### repeat last value"
   ]
  },
  {
   "cell_type": "code",
   "execution_count": 24,
   "metadata": {},
   "outputs": [
    {
     "data": {
      "text/plain": [
       "(46.30148015271508, 45.82241756418929, 45.82065935771753)"
      ]
     },
     "execution_count": 24,
     "metadata": {},
     "output_type": "execute_result"
    }
   ],
   "source": [
    "def repeat_lv(X):\n",
    "    return np.tile(X[:,-1].reshape(-1,1), reps=(1,output_len))\n",
    "\n",
    "smape_np(repeat_lv(x_train), y_train), smape_np(repeat_lv(x_valid), y_valid), smape_np(repeat_lv(x_test), y_test)\n"
   ]
  },
  {
   "cell_type": "code",
   "execution_count": 25,
   "metadata": {},
   "outputs": [
    {
     "data": {
      "text/plain": [
       "array([[ 253.,  253.,  253., ...,  253.,  253.,  253.],\n",
       "       [5397., 5397., 5397., ..., 5397., 5397., 5397.],\n",
       "       [ 396.,  396.,  396., ...,  396.,  396.,  396.],\n",
       "       ...,\n",
       "       [  17.,   17.,   17., ...,   17.,   17.,   17.],\n",
       "       [ 600.,  600.,  600., ...,  600.,  600.,  600.],\n",
       "       [  11.,   11.,   11., ...,   11.,   11.,   11.]])"
      ]
     },
     "execution_count": 25,
     "metadata": {},
     "output_type": "execute_result"
    }
   ],
   "source": [
    "repeat_lv(x_train)"
   ]
  },
  {
   "cell_type": "markdown",
   "metadata": {},
   "source": [
    "###### linear model"
   ]
  },
  {
   "cell_type": "code",
   "execution_count": 26,
   "metadata": {},
   "outputs": [],
   "source": [
    "tf.keras.backend.clear_session()\n",
    "tb_cb = create_tb_cb(\"linear\")"
   ]
  },
  {
   "cell_type": "code",
   "execution_count": 27,
   "metadata": {},
   "outputs": [],
   "source": [
    "model = tf.keras.Sequential([\n",
    "    tf.keras.layers.Dense(units=output_len, \n",
    "                          kernel_regularizer=tf.keras.regularizers.l1_l2(l1=0, l2=0))\n",
    "])"
   ]
  },
  {
   "cell_type": "code",
   "execution_count": 28,
   "metadata": {},
   "outputs": [],
   "source": [
    "model.compile(loss=smape, metrics=[smape], optimizer=tf.optimizers.Adam(learning_rate=1e-4))"
   ]
  },
  {
   "cell_type": "code",
   "execution_count": 29,
   "metadata": {},
   "outputs": [],
   "source": [
    "def scheduler(epoch, lr):\n",
    "    if epoch < 40:\n",
    "        return lr\n",
    "    else:\n",
    "        return lr * tf.math.exp(-0.1)\n",
    "lr_cb = tf.keras.callbacks.LearningRateScheduler(scheduler)"
   ]
  },
  {
   "cell_type": "code",
   "execution_count": 30,
   "metadata": {
    "scrolled": true
   },
   "outputs": [
    {
     "name": "stdout",
     "output_type": "stream",
     "text": [
      "Epoch 1/100\n",
      "  1/846 [..............................] - ETA: 0s - loss: 151.1786 - smape: 151.1786WARNING:tensorflow:From /home/cprat/anaconda3/envs/tf/lib/python3.8/site-packages/tensorflow/python/ops/summary_ops_v2.py:1277: stop (from tensorflow.python.eager.profiler) is deprecated and will be removed after 2020-07-01.\n",
      "Instructions for updating:\n",
      "use `tf.profiler.experimental.stop` instead.\n",
      "WARNING:tensorflow:Callbacks method `on_train_batch_end` is slow compared to the batch time (batch time: 0.0015s vs `on_train_batch_end` time: 0.0092s). Check your callbacks.\n",
      "846/846 [==============================] - 2s 2ms/step - loss: 126.9992 - smape: 126.9945 - val_loss: 122.6713 - val_smape: 121.9205\n",
      "Epoch 2/100\n",
      "846/846 [==============================] - 1s 2ms/step - loss: 120.6104 - smape: 120.6150 - val_loss: 118.8797 - val_smape: 118.0629\n",
      "Epoch 3/100\n",
      "846/846 [==============================] - 1s 2ms/step - loss: 117.3687 - smape: 117.3624 - val_loss: 116.5441 - val_smape: 115.7171\n",
      "Epoch 4/100\n",
      "846/846 [==============================] - 1s 2ms/step - loss: 114.7860 - smape: 114.7890 - val_loss: 114.3352 - val_smape: 113.5391\n",
      "Epoch 5/100\n",
      "846/846 [==============================] - 2s 2ms/step - loss: 112.5848 - smape: 112.5821 - val_loss: 112.5556 - val_smape: 111.7429\n",
      "Epoch 6/100\n",
      "846/846 [==============================] - 2s 2ms/step - loss: 110.6482 - smape: 110.6514 - val_loss: 111.0236 - val_smape: 110.1862\n",
      "Epoch 7/100\n",
      "846/846 [==============================] - 2s 2ms/step - loss: 108.8375 - smape: 108.8387 - val_loss: 109.2220 - val_smape: 108.3972\n",
      "Epoch 8/100\n",
      "846/846 [==============================] - 1s 1ms/step - loss: 107.0780 - smape: 107.0796 - val_loss: 107.6982 - val_smape: 106.9009\n",
      "Epoch 9/100\n",
      "846/846 [==============================] - 2s 2ms/step - loss: 105.3902 - smape: 105.3879 - val_loss: 106.1921 - val_smape: 105.3764\n",
      "Epoch 10/100\n",
      "846/846 [==============================] - 2s 2ms/step - loss: 103.7667 - smape: 103.7588 - val_loss: 104.7498 - val_smape: 103.9365\n",
      "Epoch 11/100\n",
      "846/846 [==============================] - 2s 2ms/step - loss: 102.1281 - smape: 102.1287 - val_loss: 103.2503 - val_smape: 102.4400\n",
      "Epoch 12/100\n",
      "846/846 [==============================] - 1s 2ms/step - loss: 100.5573 - smape: 100.5617 - val_loss: 101.5975 - val_smape: 100.7744\n",
      "Epoch 13/100\n",
      "846/846 [==============================] - 1s 2ms/step - loss: 98.9268 - smape: 98.9249 - val_loss: 100.1499 - val_smape: 99.3112\n",
      "Epoch 14/100\n",
      "846/846 [==============================] - 1s 1ms/step - loss: 97.3359 - smape: 97.3421 - val_loss: 98.5899 - val_smape: 97.7486\n",
      "Epoch 15/100\n",
      "846/846 [==============================] - 1s 1ms/step - loss: 95.7600 - smape: 95.7708 - val_loss: 97.3350 - val_smape: 96.5169\n",
      "Epoch 16/100\n",
      "846/846 [==============================] - 1s 2ms/step - loss: 94.2310 - smape: 94.2357 - val_loss: 95.5958 - val_smape: 94.7785\n",
      "Epoch 17/100\n",
      "846/846 [==============================] - 1s 2ms/step - loss: 92.6220 - smape: 92.6257 - val_loss: 94.1277 - val_smape: 93.3307\n",
      "Epoch 18/100\n",
      "846/846 [==============================] - 1s 2ms/step - loss: 91.0762 - smape: 91.0772 - val_loss: 92.4200 - val_smape: 91.6499\n",
      "Epoch 19/100\n",
      "846/846 [==============================] - 1s 1ms/step - loss: 89.4353 - smape: 89.4391 - val_loss: 90.9743 - val_smape: 90.1869\n",
      "Epoch 20/100\n",
      "846/846 [==============================] - 1s 1ms/step - loss: 87.8422 - smape: 87.8368 - val_loss: 89.3831 - val_smape: 88.6161\n",
      "Epoch 21/100\n",
      "846/846 [==============================] - 1s 1ms/step - loss: 86.2168 - smape: 86.2123 - val_loss: 87.4569 - val_smape: 86.7142\n",
      "Epoch 22/100\n",
      "846/846 [==============================] - 1s 1ms/step - loss: 84.6049 - smape: 84.6035 - val_loss: 85.8715 - val_smape: 85.1303\n",
      "Epoch 23/100\n",
      "846/846 [==============================] - 1s 1ms/step - loss: 82.9525 - smape: 82.9467 - val_loss: 84.2411 - val_smape: 83.5511\n",
      "Epoch 24/100\n",
      "846/846 [==============================] - 1s 1ms/step - loss: 81.2730 - smape: 81.2655 - val_loss: 82.4290 - val_smape: 81.7094\n",
      "Epoch 25/100\n",
      "846/846 [==============================] - 1s 1ms/step - loss: 79.6221 - smape: 79.6163 - val_loss: 80.7192 - val_smape: 80.0208\n",
      "Epoch 26/100\n",
      "846/846 [==============================] - 1s 1ms/step - loss: 77.9073 - smape: 77.9005 - val_loss: 78.8242 - val_smape: 78.1227\n",
      "Epoch 27/100\n",
      "846/846 [==============================] - 1s 1ms/step - loss: 76.1544 - smape: 76.1544 - val_loss: 77.1512 - val_smape: 76.4463\n",
      "Epoch 28/100\n",
      "846/846 [==============================] - 1s 1ms/step - loss: 74.4122 - smape: 74.4104 - val_loss: 75.2468 - val_smape: 74.5610\n",
      "Epoch 29/100\n",
      "846/846 [==============================] - 1s 2ms/step - loss: 72.7403 - smape: 72.7358 - val_loss: 73.3686 - val_smape: 72.7214\n",
      "Epoch 30/100\n",
      "846/846 [==============================] - 1s 2ms/step - loss: 71.0027 - smape: 71.0124 - val_loss: 71.5300 - val_smape: 70.8821\n",
      "Epoch 31/100\n",
      "846/846 [==============================] - 1s 1ms/step - loss: 69.3097 - smape: 69.2991 - val_loss: 69.8292 - val_smape: 69.1904\n",
      "Epoch 32/100\n",
      "846/846 [==============================] - 1s 1ms/step - loss: 67.6681 - smape: 67.6654 - val_loss: 68.3392 - val_smape: 67.7291\n",
      "Epoch 33/100\n",
      "846/846 [==============================] - 1s 1ms/step - loss: 66.0620 - smape: 66.0587 - val_loss: 66.3074 - val_smape: 65.7093\n",
      "Epoch 34/100\n",
      "846/846 [==============================] - 1s 1ms/step - loss: 64.5173 - smape: 64.5149 - val_loss: 64.6651 - val_smape: 64.0761\n",
      "Epoch 35/100\n",
      "846/846 [==============================] - 1s 1ms/step - loss: 63.0347 - smape: 63.0293 - val_loss: 63.2303 - val_smape: 62.6333\n",
      "Epoch 36/100\n",
      "846/846 [==============================] - 1s 1ms/step - loss: 61.6024 - smape: 61.6018 - val_loss: 61.9666 - val_smape: 61.4032\n",
      "Epoch 37/100\n",
      "846/846 [==============================] - 1s 1ms/step - loss: 60.2658 - smape: 60.2605 - val_loss: 60.4637 - val_smape: 59.9081\n",
      "Epoch 38/100\n",
      "846/846 [==============================] - 1s 1ms/step - loss: 59.1074 - smape: 59.1101 - val_loss: 59.3874 - val_smape: 58.8528\n",
      "Epoch 39/100\n",
      "846/846 [==============================] - 1s 1ms/step - loss: 58.0571 - smape: 58.0581 - val_loss: 58.4097 - val_smape: 57.8927\n",
      "Epoch 40/100\n",
      "846/846 [==============================] - 1s 1ms/step - loss: 57.0484 - smape: 57.0512 - val_loss: 57.5589 - val_smape: 57.0671\n",
      "Epoch 41/100\n",
      "846/846 [==============================] - 1s 2ms/step - loss: 56.0684 - smape: 56.0684 - val_loss: 56.1692 - val_smape: 55.6746\n",
      "Epoch 42/100\n",
      "846/846 [==============================] - 1s 2ms/step - loss: 54.8655 - smape: 54.8652 - val_loss: 55.4675 - val_smape: 55.0237\n",
      "Epoch 43/100\n",
      "846/846 [==============================] - 1s 1ms/step - loss: 53.8870 - smape: 53.8806 - val_loss: 54.3357 - val_smape: 53.9059\n",
      "Epoch 44/100\n",
      "846/846 [==============================] - 1s 1ms/step - loss: 52.8342 - smape: 52.8299 - val_loss: 53.2679 - val_smape: 52.8684\n",
      "Epoch 45/100\n",
      "846/846 [==============================] - 1s 1ms/step - loss: 51.9585 - smape: 51.9531 - val_loss: 52.4510 - val_smape: 52.0449\n",
      "Epoch 46/100\n",
      "846/846 [==============================] - 1s 2ms/step - loss: 51.3102 - smape: 51.3131 - val_loss: 51.8908 - val_smape: 51.5002\n",
      "Epoch 47/100\n",
      "846/846 [==============================] - 1s 2ms/step - loss: 50.5975 - smape: 50.5974 - val_loss: 51.2684 - val_smape: 50.8813\n",
      "Epoch 48/100\n",
      "846/846 [==============================] - 1s 1ms/step - loss: 49.9624 - smape: 49.9628 - val_loss: 50.4849 - val_smape: 50.1315\n",
      "Epoch 49/100\n",
      "846/846 [==============================] - 1s 2ms/step - loss: 49.3637 - smape: 49.3668 - val_loss: 50.0540 - val_smape: 49.6940\n",
      "Epoch 50/100\n",
      "846/846 [==============================] - 1s 1ms/step - loss: 48.8902 - smape: 48.8895 - val_loss: 49.5791 - val_smape: 49.2293\n",
      "Epoch 51/100\n",
      "846/846 [==============================] - 1s 2ms/step - loss: 48.4436 - smape: 48.4429 - val_loss: 49.1094 - val_smape: 48.7706\n",
      "Epoch 52/100\n",
      "846/846 [==============================] - 1s 1ms/step - loss: 48.0165 - smape: 48.0147 - val_loss: 48.8432 - val_smape: 48.5062\n",
      "Epoch 53/100\n",
      "846/846 [==============================] - 1s 2ms/step - loss: 47.6397 - smape: 47.6422 - val_loss: 48.6409 - val_smape: 48.3178\n",
      "Epoch 54/100\n"
     ]
    },
    {
     "name": "stdout",
     "output_type": "stream",
     "text": [
      "846/846 [==============================] - 1s 2ms/step - loss: 47.2620 - smape: 47.2608 - val_loss: 48.2445 - val_smape: 47.9114\n",
      "Epoch 55/100\n",
      "846/846 [==============================] - 1s 1ms/step - loss: 46.9563 - smape: 46.9566 - val_loss: 48.0339 - val_smape: 47.7247\n",
      "Epoch 56/100\n",
      "846/846 [==============================] - 1s 1ms/step - loss: 46.6332 - smape: 46.6358 - val_loss: 47.7573 - val_smape: 47.4464\n",
      "Epoch 57/100\n",
      "846/846 [==============================] - 1s 1ms/step - loss: 46.3696 - smape: 46.3715 - val_loss: 47.3441 - val_smape: 47.0414\n",
      "Epoch 58/100\n",
      "846/846 [==============================] - 1s 1ms/step - loss: 46.1056 - smape: 46.1007 - val_loss: 47.4125 - val_smape: 47.1190\n",
      "Epoch 59/100\n",
      "846/846 [==============================] - 1s 2ms/step - loss: 45.9197 - smape: 45.9171 - val_loss: 47.1525 - val_smape: 46.8572\n",
      "Epoch 60/100\n",
      "846/846 [==============================] - 1s 1ms/step - loss: 45.6910 - smape: 45.6923 - val_loss: 46.9757 - val_smape: 46.6746\n",
      "Epoch 61/100\n",
      "846/846 [==============================] - 1s 1ms/step - loss: 45.4897 - smape: 45.4895 - val_loss: 46.9072 - val_smape: 46.6145\n",
      "Epoch 62/100\n",
      "846/846 [==============================] - 1s 1ms/step - loss: 45.3151 - smape: 45.3170 - val_loss: 46.6855 - val_smape: 46.3926\n",
      "Epoch 63/100\n",
      "846/846 [==============================] - 1s 1ms/step - loss: 45.1552 - smape: 45.1572 - val_loss: 46.5793 - val_smape: 46.2883\n",
      "Epoch 64/100\n",
      "846/846 [==============================] - 1s 1ms/step - loss: 45.0008 - smape: 45.0044 - val_loss: 46.4766 - val_smape: 46.1910\n",
      "Epoch 65/100\n",
      "846/846 [==============================] - 1s 1ms/step - loss: 44.8643 - smape: 44.8630 - val_loss: 46.4400 - val_smape: 46.1496\n",
      "Epoch 66/100\n",
      "846/846 [==============================] - 1s 1ms/step - loss: 44.7540 - smape: 44.7523 - val_loss: 46.3391 - val_smape: 46.0483\n",
      "Epoch 67/100\n",
      "846/846 [==============================] - 1s 1ms/step - loss: 44.6286 - smape: 44.6293 - val_loss: 46.1968 - val_smape: 45.9121\n",
      "Epoch 68/100\n",
      "846/846 [==============================] - 1s 1ms/step - loss: 44.5137 - smape: 44.5180 - val_loss: 46.1282 - val_smape: 45.8472\n",
      "Epoch 69/100\n",
      "846/846 [==============================] - 1s 1ms/step - loss: 44.4252 - smape: 44.4229 - val_loss: 46.0436 - val_smape: 45.7651\n",
      "Epoch 70/100\n",
      "846/846 [==============================] - 1s 1ms/step - loss: 44.3318 - smape: 44.3284 - val_loss: 46.0015 - val_smape: 45.7220\n",
      "Epoch 71/100\n",
      "846/846 [==============================] - 1s 1ms/step - loss: 44.2373 - smape: 44.2398 - val_loss: 45.9804 - val_smape: 45.7024\n",
      "Epoch 72/100\n",
      "846/846 [==============================] - 1s 1ms/step - loss: 44.1521 - smape: 44.1494 - val_loss: 45.9259 - val_smape: 45.6492\n",
      "Epoch 73/100\n",
      "846/846 [==============================] - 1s 1ms/step - loss: 44.0848 - smape: 44.0861 - val_loss: 45.9008 - val_smape: 45.6241\n",
      "Epoch 74/100\n",
      "846/846 [==============================] - 1s 1ms/step - loss: 44.0142 - smape: 44.0163 - val_loss: 45.8639 - val_smape: 45.5879\n",
      "Epoch 75/100\n",
      "846/846 [==============================] - 1s 1ms/step - loss: 43.9513 - smape: 43.9585 - val_loss: 45.8213 - val_smape: 45.5442\n",
      "Epoch 76/100\n",
      "846/846 [==============================] - 1s 1ms/step - loss: 43.8971 - smape: 43.9014 - val_loss: 45.8105 - val_smape: 45.5348\n",
      "Epoch 77/100\n",
      "846/846 [==============================] - 1s 2ms/step - loss: 43.8491 - smape: 43.8438 - val_loss: 45.8200 - val_smape: 45.5453\n",
      "Epoch 78/100\n",
      "846/846 [==============================] - 1s 2ms/step - loss: 43.7903 - smape: 43.7858 - val_loss: 45.7738 - val_smape: 45.4983\n",
      "Epoch 79/100\n",
      "846/846 [==============================] - 1s 1ms/step - loss: 43.7428 - smape: 43.7419 - val_loss: 45.7744 - val_smape: 45.4993\n",
      "Epoch 80/100\n",
      "846/846 [==============================] - 1s 1ms/step - loss: 43.7051 - smape: 43.7063 - val_loss: 45.7939 - val_smape: 45.5185\n",
      "Epoch 81/100\n",
      "846/846 [==============================] - 1s 1ms/step - loss: 43.6709 - smape: 43.6677 - val_loss: 45.7772 - val_smape: 45.5014\n",
      "Epoch 82/100\n",
      "846/846 [==============================] - 1s 2ms/step - loss: 43.6352 - smape: 43.6334 - val_loss: 45.7458 - val_smape: 45.4701\n",
      "Epoch 83/100\n",
      "846/846 [==============================] - 1s 1ms/step - loss: 43.5963 - smape: 43.6000 - val_loss: 45.7461 - val_smape: 45.4703\n",
      "Epoch 84/100\n",
      "846/846 [==============================] - 1s 1ms/step - loss: 43.5703 - smape: 43.5695 - val_loss: 45.7432 - val_smape: 45.4682\n",
      "Epoch 85/100\n",
      "846/846 [==============================] - 1s 1ms/step - loss: 43.5408 - smape: 43.5423 - val_loss: 45.7517 - val_smape: 45.4761\n",
      "Epoch 86/100\n",
      "846/846 [==============================] - 1s 1ms/step - loss: 43.5141 - smape: 43.5089 - val_loss: 45.7207 - val_smape: 45.4453\n",
      "Epoch 87/100\n",
      "846/846 [==============================] - 1s 1ms/step - loss: 43.4920 - smape: 43.4943 - val_loss: 45.7334 - val_smape: 45.4586\n",
      "Epoch 88/100\n",
      "846/846 [==============================] - 1s 1ms/step - loss: 43.4688 - smape: 43.4693 - val_loss: 45.7448 - val_smape: 45.4706\n",
      "Epoch 89/100\n",
      "846/846 [==============================] - 1s 1ms/step - loss: 43.4485 - smape: 43.4435 - val_loss: 45.7406 - val_smape: 45.4653\n",
      "Epoch 90/100\n",
      "846/846 [==============================] - 1s 1ms/step - loss: 43.4313 - smape: 43.4365 - val_loss: 45.7336 - val_smape: 45.4581\n",
      "Epoch 91/100\n",
      "846/846 [==============================] - 1s 1ms/step - loss: 43.4140 - smape: 43.4121 - val_loss: 45.7288 - val_smape: 45.4542\n",
      "Epoch 92/100\n",
      "846/846 [==============================] - 1s 1ms/step - loss: 43.4008 - smape: 43.3973 - val_loss: 45.7359 - val_smape: 45.4608\n",
      "Epoch 93/100\n",
      "846/846 [==============================] - 1s 1ms/step - loss: 43.3855 - smape: 43.3850 - val_loss: 45.7337 - val_smape: 45.4585\n",
      "Epoch 94/100\n",
      "846/846 [==============================] - 1s 1ms/step - loss: 43.3742 - smape: 43.3714 - val_loss: 45.7430 - val_smape: 45.4683\n",
      "Epoch 95/100\n",
      "846/846 [==============================] - 1s 1ms/step - loss: 43.3627 - smape: 43.3646 - val_loss: 45.7351 - val_smape: 45.4597\n",
      "Epoch 96/100\n",
      "846/846 [==============================] - 1s 1ms/step - loss: 43.3506 - smape: 43.3535 - val_loss: 45.7435 - val_smape: 45.4683\n",
      "Epoch 97/100\n",
      "846/846 [==============================] - 1s 2ms/step - loss: 43.3394 - smape: 43.3460 - val_loss: 45.7379 - val_smape: 45.4626\n",
      "Epoch 98/100\n",
      "846/846 [==============================] - 1s 1ms/step - loss: 43.3311 - smape: 43.3268 - val_loss: 45.7349 - val_smape: 45.4597\n",
      "Epoch 99/100\n",
      "846/846 [==============================] - 1s 1ms/step - loss: 43.3222 - smape: 43.3225 - val_loss: 45.7318 - val_smape: 45.4567\n",
      "Epoch 100/100\n",
      "846/846 [==============================] - 1s 1ms/step - loss: 43.3149 - smape: 43.3217 - val_loss: 45.7362 - val_smape: 45.4610\n"
     ]
    },
    {
     "data": {
      "text/plain": [
       "<tensorflow.python.keras.callbacks.History at 0x7f87840ce220>"
      ]
     },
     "execution_count": 30,
     "metadata": {},
     "output_type": "execute_result"
    }
   ],
   "source": [
    "model.fit(x_train, y_train, epochs=100, batch_size=32 , \n",
    "          validation_data= (x_valid, y_valid), callbacks=[tb_cb, lr_cb])"
   ]
  },
  {
   "cell_type": "code",
   "execution_count": 31,
   "metadata": {},
   "outputs": [
    {
     "data": {
      "text/plain": [
       "(27060, 741)"
      ]
     },
     "execution_count": 31,
     "metadata": {},
     "output_type": "execute_result"
    }
   ],
   "source": [
    "model.optimizer.lr.numpy()\n",
    "x_train.shape"
   ]
  },
  {
   "cell_type": "code",
   "execution_count": 32,
   "metadata": {},
   "outputs": [],
   "source": [
    "def linear_estimator(x):\n",
    "    return model.predict(x[:,-x_train.shape[1]:])"
   ]
  },
  {
   "cell_type": "code",
   "execution_count": 33,
   "metadata": {},
   "outputs": [
    {
     "data": {
      "text/plain": [
       "[<matplotlib.lines.Line2D at 0x7f877c0f55e0>]"
      ]
     },
     "execution_count": 33,
     "metadata": {},
     "output_type": "execute_result"
    },
    {
     "data": {
      "image/png": "[encoded data removed]",
      "text/plain": [
       "<Figure size 432x288 with 1 Axes>"
      ]
     },
     "metadata": {
      "needs_background": "light"
     },
     "output_type": "display_data"
    }
   ],
   "source": [
    "weights = model.get_layer(\"dense\").get_weights()[0]\n",
    "\n",
    "f,ax = plt.subplots()\n",
    "ax.plot(np.abs(weights[:,0]))"
   ]
  },
  {
   "cell_type": "code",
   "execution_count": 34,
   "metadata": {},
   "outputs": [
    {
     "name": "stdout",
     "output_type": "stream",
     "text": [
      "Model: \"sequential\"\n",
      "_________________________________________________________________\n",
      "Layer (type)                 Output Shape              Param #   \n",
      "=================================================================\n",
      "dense (Dense)                (None, 62)                46004     \n",
      "=================================================================\n",
      "Total params: 46,004\n",
      "Trainable params: 46,004\n",
      "Non-trainable params: 0\n",
      "_________________________________________________________________\n"
     ]
    }
   ],
   "source": [
    "model.summary()"
   ]
  },
  {
   "cell_type": "markdown",
   "metadata": {},
   "source": [
    "###### Simple RNN"
   ]
  },
  {
   "cell_type": "code",
   "execution_count": null,
   "metadata": {},
   "outputs": [],
   "source": []
  },
  {
   "cell_type": "code",
   "execution_count": null,
   "metadata": {},
   "outputs": [],
   "source": []
  },
  {
   "cell_type": "code",
   "execution_count": null,
   "metadata": {},
   "outputs": [],
   "source": []
  },
  {
   "cell_type": "code",
   "execution_count": null,
   "metadata": {},
   "outputs": [],
   "source": []
  },
  {
   "cell_type": "markdown",
   "metadata": {},
   "source": [
    "### reset memory"
   ]
  },
  {
   "cell_type": "code",
   "execution_count": 35,
   "metadata": {},
   "outputs": [],
   "source": [
    "import gc"
   ]
  },
  {
   "cell_type": "code",
   "execution_count": 36,
   "metadata": {},
   "outputs": [
    {
     "data": {
      "text/plain": [
       "4830"
      ]
     },
     "execution_count": 36,
     "metadata": {},
     "output_type": "execute_result"
    }
   ],
   "source": [
    "gc.collect()"
   ]
  },
  {
   "cell_type": "code",
   "execution_count": 37,
   "metadata": {},
   "outputs": [],
   "source": [
    "del df"
   ]
  },
  {
   "cell_type": "markdown",
   "metadata": {},
   "source": [
    "### ouput"
   ]
  },
  {
   "cell_type": "code",
   "execution_count": 40,
   "metadata": {},
   "outputs": [],
   "source": [
    "key = pd.read_csv(\"key_2.csv.zip\").set_index(\"Page\")"
   ]
  },
  {
   "cell_type": "code",
   "execution_count": 41,
   "metadata": {},
   "outputs": [
    {
     "data": {
      "text/html": [
       "<div>\n",
       "<style scoped>\n",
       "    .dataframe tbody tr th:only-of-type {\n",
       "        vertical-align: middle;\n",
       "    }\n",
       "\n",
       "    .dataframe tbody tr th {\n",
       "        vertical-align: top;\n",
       "    }\n",
       "\n",
       "    .dataframe thead th {\n",
       "        text-align: right;\n",
       "    }\n",
       "</style>\n",
       "<table border=\"1\" class=\"dataframe\">\n",
       "  <thead>\n",
       "    <tr style=\"text-align: right;\">\n",
       "      <th></th>\n",
       "      <th>Id</th>\n",
       "      <th>Visits</th>\n",
       "    </tr>\n",
       "    <tr>\n",
       "      <th>Page</th>\n",
       "      <th></th>\n",
       "      <th></th>\n",
       "    </tr>\n",
       "  </thead>\n",
       "  <tbody>\n",
       "    <tr>\n",
       "      <th>007_スペクター_ja.wikipedia.org_all-access_all-agents_2017-09-13</th>\n",
       "      <td>0b293039387a</td>\n",
       "      <td>None</td>\n",
       "    </tr>\n",
       "    <tr>\n",
       "      <th>007_スペクター_ja.wikipedia.org_all-access_all-agents_2017-09-14</th>\n",
       "      <td>7114389dd824</td>\n",
       "      <td>None</td>\n",
       "    </tr>\n",
       "    <tr>\n",
       "      <th>007_スペクター_ja.wikipedia.org_all-access_all-agents_2017-09-15</th>\n",
       "      <td>057b02ff1f09</td>\n",
       "      <td>None</td>\n",
       "    </tr>\n",
       "    <tr>\n",
       "      <th>007_スペクター_ja.wikipedia.org_all-access_all-agents_2017-09-16</th>\n",
       "      <td>bd2aca21caa3</td>\n",
       "      <td>None</td>\n",
       "    </tr>\n",
       "    <tr>\n",
       "      <th>007_スペクター_ja.wikipedia.org_all-access_all-agents_2017-09-17</th>\n",
       "      <td>c0effb42cdd5</td>\n",
       "      <td>None</td>\n",
       "    </tr>\n",
       "  </tbody>\n",
       "</table>\n",
       "</div>"
      ],
      "text/plain": [
       "                                                              Id Visits\n",
       "Page                                                                   \n",
       "007_スペクター_ja.wikipedia.org_all-access_all-agent...  0b293039387a   None\n",
       "007_スペクター_ja.wikipedia.org_all-access_all-agent...  7114389dd824   None\n",
       "007_スペクター_ja.wikipedia.org_all-access_all-agent...  057b02ff1f09   None\n",
       "007_スペクター_ja.wikipedia.org_all-access_all-agent...  bd2aca21caa3   None\n",
       "007_スペクター_ja.wikipedia.org_all-access_all-agent...  c0effb42cdd5   None"
      ]
     },
     "execution_count": 41,
     "metadata": {},
     "output_type": "execute_result"
    }
   ],
   "source": [
    "key[\"Visits\"] = None\n",
    "key.head()"
   ]
  },
  {
   "cell_type": "code",
   "execution_count": 42,
   "metadata": {},
   "outputs": [],
   "source": [
    "def output_form(_df, _estimator=None):\n",
    "    \"\"\" return a serie indexed by Page \"\"\"\n",
    "    out_date = pd.date_range(start=\"2017-09-13\", end=\"2017-11-13\", freq=\"1D\").strftime(\"%Y-%m-%d\").to_list()\n",
    "    num_hist = _df.drop(columns=\"Page\").fillna(0).values\n",
    "    num_pred = _estimator(num_hist)\n",
    "    ret = pd.DataFrame(num_pred, columns=out_date, index=_df[\"Page\"]).stack().rename(\"Visits\")\n",
    "    ret.index = [ii[0]+\"_\"+ii[1] for ii in ret.index]\n",
    "    return ret\n",
    "\n",
    "chunk = pd.read_csv(\"train_2.csv.zip\", nrows=10000)\n",
    "Visits_pred = output_form(chunk, linear_estimator)"
   ]
  },
  {
   "cell_type": "code",
   "execution_count": 50,
   "metadata": {},
   "outputs": [
    {
     "name": "stdout",
     "output_type": "stream",
     "text": [
      "Prediction 0\n",
      "Prediction 1\n",
      "Prediction 2\n",
      "Prediction 3\n",
      "Prediction 4\n",
      "Prediction 5\n",
      "Prediction 6\n",
      "Prediction 7\n",
      "Prediction 8\n",
      "Prediction 9\n",
      "Prediction 10\n",
      "Prediction 11\n",
      "Prediction 12\n",
      "Prediction 13\n",
      "Prediction 14\n"
     ]
    }
   ],
   "source": [
    "df_chunk = pd.read_csv(\"train_2.csv.zip\", chunksize=10000)\n",
    "\n",
    "for ii, chunk in enumerate(df_chunk):\n",
    "    print(\"Prediction {}\".format(ii))\n",
    "    predictions = output_form(chunk, linear_estimator).astype(int)\n",
    "    key.loc[predictions.index, \"Visits\"] = predictions.astype(int)"
   ]
  },
  {
   "cell_type": "code",
   "execution_count": 53,
   "metadata": {},
   "outputs": [],
   "source": [
    "key.to_csv(\"subm_linear.csv\", encoding='utf-8', index=False)"
   ]
  }
 ],
 "metadata": {
  "kernelspec": {
   "display_name": "tf",
   "language": "python",
   "name": "tf"
  },
  "language_info": {
   "codemirror_mode": {
    "name": "ipython",
    "version": 3
   },
   "file_extension": ".py",
   "mimetype": "text/x-python",
   "name": "python",
   "nbconvert_exporter": "python",
   "pygments_lexer": "ipython3",
   "version": "3.8.8"
  }
 },
 "nbformat": 4,
 "nbformat_minor": 4
}
