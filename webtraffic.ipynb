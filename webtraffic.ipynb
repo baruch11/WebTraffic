{
 "cells": [
  {
   "cell_type": "code",
   "execution_count": null,
   "metadata": {},
   "outputs": [],
   "source": [
    "from IPython.core.display import display, HTML\n",
    "display(HTML(\"<style>.container { width:80% !important; }</style>\"))\n",
    "%config Completer.use_jedi = False  # to make autocompletion faster"
   ]
  },
  {
   "cell_type": "code",
   "execution_count": null,
   "metadata": {},
   "outputs": [],
   "source": [
    "import pandas as pd\n",
    "import numpy as np\n",
    "import matplotlib.pyplot as plt\n",
    "import tensorflow as tf\n",
    "import gc"
   ]
  },
  {
   "cell_type": "code",
   "execution_count": null,
   "metadata": {},
   "outputs": [],
   "source": [
    "tf.__version__"
   ]
  },
  {
   "cell_type": "code",
   "execution_count": null,
   "metadata": {
    "scrolled": true
   },
   "outputs": [],
   "source": [
    "\"\"\"\n",
    "# load kaggle environment if in google colab\n",
    "from google.colab import files\n",
    "files.upload() #upload kaggle.json\n",
    "!pip install -q kaggle\n",
    "!mkdir -p ~/.kaggle\n",
    "!cp kaggle.json ~/.kaggle/\n",
    "!ls ~/.kaggle\n",
    "!chmod 600 /root/.kaggle/kaggle.json\n",
    "!mkdir logs\n",
    "\"\"\""
   ]
  },
  {
   "cell_type": "code",
   "execution_count": null,
   "metadata": {},
   "outputs": [],
   "source": [
    "\"\"\"\n",
    "!kaggle competitions download -c web-traffic-time-series-forecasting\n",
    "!yes|unzip web-traffic-time-series-forecasting.zip\n",
    "!yes|unzip train_2.csv.zip\n",
    "!tail -n +2 train_2.csv|shuf --random-source train_2.csv > train_2_shuffled.csv\n",
    "!head -n -10000 train_2_shuffled.csv > train_set.csv\n",
    "!tail -n 10000 train_2_shuffled.csv > validation_set.csv\n",
    "\"\"\""
   ]
  },
  {
   "cell_type": "markdown",
   "metadata": {},
   "source": [
    "## Make dataset"
   ]
  },
  {
   "cell_type": "code",
   "execution_count": null,
   "metadata": {},
   "outputs": [],
   "source": [
    "from webtraffic_utils import *\n",
    "output_len = 62\n",
    "normalize_ds = False\n",
    "batch_size = 4096"
   ]
  },
  {
   "cell_type": "code",
   "execution_count": null,
   "metadata": {},
   "outputs": [],
   "source": [
    "# features like (access, spectral tones) created by feature_engineering.ipynb\n",
    "\n",
    "from ast import literal_eval\n",
    "df_feat = pd.read_csv(\"features_computed.csv.zip\",converters={\"tones\":literal_eval}).set_index(\"Page\")\n",
    "weekly_tone = df_feat[\"tones\"].apply(lambda x: (np.abs(np.array(x)-1./7.)<1e-2).any()).rename(\"week\")"
   ]
  },
  {
   "cell_type": "code",
   "execution_count": null,
   "metadata": {},
   "outputs": [],
   "source": [
    "df_ds = pd.read_csv(\"train_2.csv.zip\", header=0).set_index(\"Page\").fillna(0).astype(np.int32)\n",
    "\n",
    "# add features to df\n",
    "add_feats = pd.concat([weekly_tone], axis=1)\n",
    "add_feats.rename(columns={ii:\"feat_\"+str(ii) for ii in add_feats.columns}, inplace=True)\n",
    "df_ds = pd.concat([df_ds, add_feats], axis=1)\n",
    "add_feats.columns"
   ]
  },
  {
   "cell_type": "code",
   "execution_count": null,
   "metadata": {},
   "outputs": [],
   "source": [
    "from sklearn.model_selection import train_test_split\n",
    "\n",
    "df_train, df_test, week_train, week_test = train_test_split(df_ds, weekly_tone, test_size=20000)"
   ]
  },
  {
   "cell_type": "markdown",
   "metadata": {},
   "source": [
    "[repeat last value](#repeat-last-value)  \n",
    "[linear model](#linear-model)  \n",
    "[RNN](#RNN)  "
   ]
  },
  {
   "cell_type": "markdown",
   "metadata": {},
   "source": [
    "## Exploration"
   ]
  },
  {
   "cell_type": "code",
   "execution_count": null,
   "metadata": {},
   "outputs": [],
   "source": [
    "# remarkable pages\n",
    "rem_pages = [\n",
    "    'Acier_inoxydable_fr.wikipedia.org_desktop_all-agents',\n",
    "    '2NE1_zh.wikipedia.org_all-access_spider',\n",
    "    '3C_zh.wikipedia.org_all-access_spider'\n",
    "]\n",
    "page = rem_pages[0]\n",
    "traffic_t =  df_train.drop(columns=add_feats.columns).loc[page].values[:-1].astype(int)\n",
    "f,vax = plt.subplots(1,3, figsize=(20,4))\n",
    "fax = vax.flat\n",
    "\n",
    "\n",
    "ax=next(fax)\n",
    "ax.plot(traffic_t)\n",
    "ax.set_title(\"time traffic\")\n",
    "\n",
    "\n",
    "ax=next(fax)\n",
    "ax.plot(estimated_autocorrelation(traffic_t))\n",
    "ax.set_xticks([0,365,2*365])\n",
    "ax.set_title(\"autocorrelation\")\n",
    "ax.grid()\n",
    "\n",
    "ax=next(fax)\n",
    "plot_spectrest(traffic_t, ax)\n",
    "ax.set_title(\"spectral estimation\")\n",
    "\n",
    "\n",
    "\n",
    "\n",
    "plt.suptitle(page, fontsize=15)\n",
    "plt.show()"
   ]
  },
  {
   "cell_type": "markdown",
   "metadata": {},
   "source": [
    "## Models"
   ]
  },
  {
   "cell_type": "markdown",
   "metadata": {},
   "source": [
    "[repeat last value](#repeat-last-value)  \n",
    "[linear model](#linear-model)  \n",
    "[RNN](#RNN)  "
   ]
  },
  {
   "cell_type": "markdown",
   "metadata": {},
   "source": [
    "### repeat last value"
   ]
  },
  {
   "cell_type": "code",
   "execution_count": null,
   "metadata": {},
   "outputs": [],
   "source": [
    "import tensorflow_probability as tfp\n",
    "\n",
    "class Median(tf.keras.layers.Layer):\n",
    "    def __init__(self, median_depth=40):\n",
    "        super().__init__()\n",
    "        self.median_depth =median_depth\n",
    "            \n",
    "    def call(self, inputs):\n",
    "        #print(inputs)\n",
    "        Xtraff = tfp.stats.percentile(inputs[:,-self.median_depth:], 50.0, interpolation='lower', axis=1)\n",
    "        return tf.tile(tf.expand_dims(Xtraff,axis=1), [1,output_len])"
   ]
  },
  {
   "cell_type": "code",
   "execution_count": null,
   "metadata": {
    "scrolled": true
   },
   "outputs": [],
   "source": [
    "I_traffic = tf.keras.layers.Input(shape=(741,))\n",
    "I_page = tf.keras.layers.Input(shape=(), dtype=object)\n",
    "outputs = Median(40)(I_traffic)  \n",
    "med = tf.keras.models.Model([I_page,I_traffic],outputs)\n",
    "\n",
    "med.compile(loss=SmapeLoss(), metrics=[SmapeMetric()])\n",
    "features, target = get_model_inputs(df_train)\n",
    "\n",
    "med.evaluate(features, target, batch_size=1000)\n",
    "med.save(\"saved_model/median\", save_format='tf')\n",
    "_=gc.collect()"
   ]
  },
  {
   "cell_type": "code",
   "execution_count": null,
   "metadata": {},
   "outputs": [],
   "source": [
    "plot_check_result(df_ds, rem_pages[0], [med])"
   ]
  },
  {
   "cell_type": "markdown",
   "metadata": {},
   "source": [
    "### linear model"
   ]
  },
  {
   "cell_type": "code",
   "execution_count": null,
   "metadata": {},
   "outputs": [],
   "source": [
    "def scheduler(epoch, lr):\n",
    "    if epoch < 10:\n",
    "        return lr\n",
    "    else:\n",
    "        return lr * tf.math.exp(-0.05)\n",
    "lr_cb = tf.keras.callbacks.LearningRateScheduler(scheduler)"
   ]
  },
  {
   "cell_type": "code",
   "execution_count": null,
   "metadata": {},
   "outputs": [],
   "source": [
    "tf.keras.backend.clear_session()\n",
    "tb_cb = create_tb_cb(\"linear\")\n",
    "\n",
    "class preprocessing(tf.keras.layers.Layer):\n",
    "    def call(self, inputs):\n",
    "        return inputs[:,-150:]\n",
    "\n",
    "traffic = tf.keras.layers.Input(shape=(741,))\n",
    "page = tf.keras.layers.Input(shape=())\n",
    "x = preprocessing()(traffic)\n",
    "outputs = tf.keras.layers.Dense(units=output_len)(x)\n",
    "\n",
    "model_linear = tf.keras.Model(inputs=[page, traffic], outputs=[outputs])\n",
    "\n",
    "#model_linear.summary()\n",
    "\n",
    "model_linear.compile(loss=SmapeLoss(), optimizer=tf.optimizers.Adam(learning_rate=1e-4), \n",
    "                     metrics=[SmapeMetric()])"
   ]
  },
  {
   "cell_type": "code",
   "execution_count": null,
   "metadata": {},
   "outputs": [],
   "source": [
    "es_cb = tf.keras.callbacks.EarlyStopping(monitor='smape', min_delta=0.1, patience=5, verbose=0, restore_best_weights=True)\n",
    "\n",
    "#ds1.cache()\n",
    "features, target = get_model_inputs(df_train)\n",
    "model_linear.fit(features, target, epochs=100, callbacks=[tb_cb, es_cb], batch_size=32) #, validation_data=val_ds)\n",
    "model_linear.save(\"saved_model/model_linear_nw\", save_format='tf')"
   ]
  },
  {
   "cell_type": "code",
   "execution_count": null,
   "metadata": {},
   "outputs": [],
   "source": [
    "plot_check_result(df_train, rem_pages[0], [model_linear, med])"
   ]
  },
  {
   "cell_type": "code",
   "execution_count": null,
   "metadata": {},
   "outputs": [],
   "source": [
    "weights = model_linear.get_layer(\"dense\").get_weights()[0]\n",
    "\n",
    "f,ax = plt.subplots()\n",
    "ax.plot(np.abs(weights[:,0]))\n",
    "ax.grid()"
   ]
  },
  {
   "cell_type": "markdown",
   "metadata": {},
   "source": [
    "### mixed model"
   ]
  },
  {
   "cell_type": "code",
   "execution_count": null,
   "metadata": {},
   "outputs": [],
   "source": [
    "features, target = get_model_inputs(df_train)\n",
    "feat_val, target_val = get_model_inputs(df_test)\n",
    "\n",
    "\n",
    "tf.keras.backend.clear_session()\n",
    "tb_cb = create_tb_cb(\"linear\")\n",
    "\n",
    "class preprocessing(tf.keras.layers.Layer):\n",
    "    def call(self, inputs):\n",
    "        return inputs[:,-150:]\n",
    "\n",
    "traffic = tf.keras.layers.Input(shape=(741,))\n",
    "page = tf.keras.layers.Input(shape=())\n",
    "weekly = tf.keras.layers.Input(shape=())\n",
    "x = preprocessing()(traffic)\n",
    "o_lin = tf.keras.layers.Dense(units=output_len)(x)\n",
    "o_med = Median(40)(traffic)\n",
    "    \n",
    "outputs =  o_lin * tf.tile(tf.expand_dims(tf.cast(weekly, o_lin.dtype),1),[1,62])\n",
    "outputs =  outputs + o_med * tf.tile(tf.expand_dims(tf.cast(1-weekly, o_lin.dtype),1),[1,62])\n",
    "\n",
    "    \n",
    "mixed_model = tf.keras.Model(inputs=[page, traffic, weekly], outputs=[outputs])\n",
    "\n",
    "mixed_model.compile(loss=SmapeLoss(), optimizer=tf.optimizers.Adam(learning_rate=1e-4), \n",
    "                     metrics=[SmapeMetric()])\n"
   ]
  },
  {
   "cell_type": "code",
   "execution_count": null,
   "metadata": {},
   "outputs": [],
   "source": [
    "es_cb = tf.keras.callbacks.EarlyStopping(monitor='val_smape', min_delta=0.1, patience=5, verbose=0, restore_best_weights=True)\n",
    "mixed_model.fit(features, target, epochs=100, callbacks=[tb_cb, es_cb], batch_size=32, validation_data=(feat_val, target_val))"
   ]
  },
  {
   "cell_type": "code",
   "execution_count": null,
   "metadata": {},
   "outputs": [],
   "source": [
    "mixed_model.save(\"saved_model/mixed_model\", save_format='tf')"
   ]
  },
  {
   "cell_type": "code",
   "execution_count": null,
   "metadata": {},
   "outputs": [],
   "source": [
    "gc.collect()"
   ]
  },
  {
   "cell_type": "code",
   "execution_count": null,
   "metadata": {},
   "outputs": [],
   "source": [
    "plot_check_result(df_train, rem_pages[0], [mixed_model, med])"
   ]
  },
  {
   "cell_type": "markdown",
   "metadata": {},
   "source": [
    "### RNN"
   ]
  },
  {
   "cell_type": "code",
   "execution_count": null,
   "metadata": {},
   "outputs": [],
   "source": [
    "#!rm -Rf logs/*"
   ]
  },
  {
   "cell_type": "code",
   "execution_count": null,
   "metadata": {},
   "outputs": [],
   "source": [
    "class normalize_rnn(tf.keras.layers.Layer):\n",
    "    def call(self, inputs):\n",
    "        fact = tf.reduce_max(inputs, axis=1, keepdims=True)\n",
    "        ret = tf.divide(inputs, fact + 1e-10) \n",
    "        return ret, fact\n",
    "\n",
    "\n",
    "class denormalize_rnn(tf.keras.layers.Layer):\n",
    "    def call(self, inputs, fact):\n",
    "        #ret = tf.maximum(tf.floor(tf.multiply(inputs, fact)), 0)\n",
    "        ret = tf.multiply(inputs, fact)\n",
    "        return ret\n",
    "\n",
    "#xtry = tf.constant(np.random.randint(-1000, 1000, size=(10,5)), dtype=tf.float32)\n",
    "#xn, fact = normalize_rnn()(xtry)\n",
    "#denormalize_rnn()(xn,fact),xtry"
   ]
  },
  {
   "cell_type": "code",
   "execution_count": null,
   "metadata": {},
   "outputs": [],
   "source": [
    "voc_access = np.unique(df_ds.index.map(lambda x: \"_\".join(x.split(\"_\")[-2:])))\n",
    "voc_project = np.unique(df_ds.index.map(lambda x: x.split(\"_\")[-3]))\n",
    "onehotAccess = OneHotEncodingLayer(voc_access, name=\"ohAccess\")\n",
    "onehotProject = OneHotEncodingLayer(voc_project, name=\"ohProject\")"
   ]
  },
  {
   "cell_type": "code",
   "execution_count": null,
   "metadata": {},
   "outputs": [],
   "source": [
    "Nneurons = 20\n",
    "Nlayers = 1\n",
    "MaxTs = 150\n",
    "usePastYear = False\n",
    "useMetadata = False\n",
    "tf.random.set_seed(42)\n",
    "\n",
    "simn = 'Ts'+str(MaxTs)+'-Nn'+str(Nneurons)+'-Nl'+str(Nlayers)\n",
    "\n",
    "tf.keras.backend.clear_session()\n",
    "tb_cb = create_tb_cb(simn)\n",
    "\n",
    "class preprocessing_rnn(tf.keras.layers.Layer):\n",
    "    def call(self, inputs, access1h):\n",
    "        ret = inputs[:,-MaxTs:,np.newaxis]\n",
    "        if useMetadata:\n",
    "            access_broadcast = tf.tile(access1h[:,np.newaxis,:],[1,MaxTs,1])\n",
    "            ret = tf.concat([ret, access_broadcast], axis=2)\n",
    "            \n",
    "        if usePastYear:\n",
    "            pastYear = inputs[:, -MaxTs-365+output_len:-365+output_len, np.newaxis]\n",
    "            ret = tf.concat([ret, pastYear], axis=2)\n",
    "        return ret\n",
    "\n",
    "I_page = tf.keras.layers.Input(shape=(), dtype=object)\n",
    "I_traffic = tf.keras.layers.Input(shape=(741,))\n",
    "weekly = tf.keras.layers.Input(shape=())\n",
    "\n",
    "access1h = onehotAccess(I_page)\n",
    "\n",
    "x, factors = normalize_rnn()(I_traffic)\n",
    "x = preprocessing_rnn()(x, access1h)\n",
    "for ii in range(Nlayers-1):\n",
    "    x = tf.keras.layers.GRU(Nneurons, return_sequences=True)(x)\n",
    "x = tf.keras.layers.GRU(Nneurons)(x)\n",
    "x= tf.keras.layers.Dense(output_len)(x)\n",
    "outputs= denormalize_rnn()(x, factors)\n",
    "\n",
    "model_rnn = tf.keras.Model(inputs=[I_page, I_traffic, weekly], outputs=[outputs])\n",
    "\n",
    "model_rnn.summary()"
   ]
  },
  {
   "cell_type": "code",
   "execution_count": null,
   "metadata": {},
   "outputs": [],
   "source": [
    "model_rnn.compile(loss=SmapeLoss(), optimizer=tf.optimizers.Adam(learning_rate=1e-4), metrics=[SmapeMetric()])"
   ]
  },
  {
   "cell_type": "code",
   "execution_count": null,
   "metadata": {},
   "outputs": [],
   "source": [
    "es_cb = tf.keras.callbacks.EarlyStopping(monitor='smape', min_delta=0.1, patience=5, verbose=0, restore_best_weights=True)\n",
    "features, target = get_model_inputs(df_train.loc[week_train])\n",
    "model_rnn.fit(features, target, epochs=100, callbacks=[tb_cb, es_cb] , batch_size=128) #, validation_data=val_ds)"
   ]
  },
  {
   "cell_type": "code",
   "execution_count": null,
   "metadata": {},
   "outputs": [],
   "source": [
    "model_rnn.save(\"saved_model/model_rnn\")"
   ]
  },
  {
   "cell_type": "code",
   "execution_count": null,
   "metadata": {},
   "outputs": [],
   "source": [
    "restore = tf.keras.models.load_model('saved_model/model_rnn', custom_objects={'SmapeMetric': SmapeMetric,'SmapeLoss': SmapeLoss, \n",
    "                                                                                'OneHotEncodingLayer':OneHotEncodingLayer})"
   ]
  },
  {
   "cell_type": "code",
   "execution_count": null,
   "metadata": {},
   "outputs": [],
   "source": [
    "plot_check_result(df_train, rem_pages[0], [model_rnn, restore])"
   ]
  },
  {
   "cell_type": "markdown",
   "metadata": {},
   "source": [
    "### ouput"
   ]
  },
  {
   "cell_type": "code",
   "execution_count": null,
   "metadata": {},
   "outputs": [],
   "source": [
    "key = pd.read_csv(\"key_2.csv.zip\").set_index(\"Page\")"
   ]
  },
  {
   "cell_type": "code",
   "execution_count": null,
   "metadata": {},
   "outputs": [],
   "source": [
    "key[\"Visits\"] = 0\n",
    "key.info()"
   ]
  },
  {
   "cell_type": "code",
   "execution_count": null,
   "metadata": {},
   "outputs": [],
   "source": [
    "def output_form(features, _model=None):\n",
    "    \"\"\" return a serie indexed by Page \"\"\"\n",
    "    out_date = pd.date_range(start=\"2017-09-13\", end=\"2017-11-13\", freq=\"1D\").strftime(\"%Y-%m-%d\").to_list()\n",
    "    num_pred = np.clip(_model.predict(features, batch_size=1000, verbose=1).astype(int), a_min=0, a_max=None)\n",
    "    index = df_ds.index  # np.char.decode(features[0].numpy().astype(bytes))\n",
    "    ret = pd.DataFrame(num_pred, columns=out_date, index=index).stack().rename(\"Visits\")\n",
    "    ret.index = [ii[0]+\"_\"+ii[1] for ii in ret.index]\n",
    "    return ret\n",
    "\n",
    "features = [tf.convert_to_tensor(df_ds.index), df_ds.values, tf.convert_to_tensor(weekly_tone)]\n",
    "\n",
    "Visits_pred = output_form(features, mixed_model)\n",
    "Visits_pred.head()"
   ]
  },
  {
   "cell_type": "code",
   "execution_count": null,
   "metadata": {},
   "outputs": [],
   "source": [
    "#set(key.index) == set(Visits_pred.index)\n",
    "(weekly_tone).mean()"
   ]
  },
  {
   "cell_type": "code",
   "execution_count": null,
   "metadata": {},
   "outputs": [],
   "source": [
    "key.loc[Visits_pred.index, \"Visits\"] = Visits_pred.astype(int)"
   ]
  },
  {
   "cell_type": "code",
   "execution_count": null,
   "metadata": {},
   "outputs": [],
   "source": [
    "key.to_csv(\"subm_mixed.csv\", encoding='utf-8', index=False)"
   ]
  },
  {
   "cell_type": "code",
   "execution_count": null,
   "metadata": {},
   "outputs": [],
   "source": [
    "!kaggle competitions submit -f subm_mixed.csv -m \"mixed med/lin (final)\"  web-traffic-time-series-forecasting"
   ]
  },
  {
   "cell_type": "code",
   "execution_count": null,
   "metadata": {},
   "outputs": [],
   "source": [
    "del Visits_pred, key ,features\n",
    "gc.collect()"
   ]
  },
  {
   "cell_type": "code",
   "execution_count": null,
   "metadata": {},
   "outputs": [],
   "source": []
  }
 ],
 "metadata": {
  "kernelspec": {
   "display_name": "tf",
   "language": "python",
   "name": "tf"
  },
  "language_info": {
   "codemirror_mode": {
    "name": "ipython",
    "version": 3
   },
   "file_extension": ".py",
   "mimetype": "text/x-python",
   "name": "python",
   "nbconvert_exporter": "python",
   "pygments_lexer": "ipython3",
   "version": "3.8.8"
  }
 },
 "nbformat": 4,
 "nbformat_minor": 4
}
