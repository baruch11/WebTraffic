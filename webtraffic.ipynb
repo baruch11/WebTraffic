{
 "cells": [
  {
   "cell_type": "code",
   "execution_count": null,
   "metadata": {},
   "outputs": [],
   "source": [
    "from IPython.core.display import display, HTML\n",
    "display(HTML(\"<style>.container { width:80% !important; }</style>\"))\n",
    "%config Completer.use_jedi = False  # to make autocompletion faster"
   ]
  },
  {
   "cell_type": "code",
   "execution_count": null,
   "metadata": {},
   "outputs": [],
   "source": [
    "import pandas as pd\n",
    "import numpy as np\n",
    "import matplotlib.pyplot as plt\n",
    "import tensorflow as tf"
   ]
  },
  {
   "cell_type": "code",
   "execution_count": null,
   "metadata": {},
   "outputs": [],
   "source": [
    "tf.__version__"
   ]
  },
  {
   "cell_type": "code",
   "execution_count": null,
   "metadata": {},
   "outputs": [],
   "source": [
    "\"\"\"\n",
    "# load kaggle environment if in google colab\n",
    "from google.colab import files\n",
    "files.upload() #upload kaggle.json\n",
    "!pip install -q kaggle\n",
    "!mkdir -p ~/.kaggle\n",
    "!cp kaggle.json ~/.kaggle/\n",
    "!ls ~/.kaggle\n",
    "!chmod 600 /root/.kaggle/kaggle.json\n",
    "!mkdir logs\n",
    "\"\"\""
   ]
  },
  {
   "cell_type": "code",
   "execution_count": null,
   "metadata": {},
   "outputs": [],
   "source": [
    "\"\"\"\n",
    "!kaggle competitions download -c web-traffic-time-series-forecasting\n",
    "!yes|unzip web-traffic-time-series-forecasting.zip\n",
    "!yes|unzip train_2.csv.zip\n",
    "!tail -n +2 train_2.csv|shuf --random-source train_2.csv > train_2_shuffled.csv\n",
    "!head -n -10000 train_2_shuffled.csv > train_set.csv\n",
    "!tail -n 10000 train_2_shuffled.csv > validation_set.csv\n",
    "\"\"\""
   ]
  },
  {
   "cell_type": "markdown",
   "metadata": {},
   "source": [
    "## Make dataset"
   ]
  },
  {
   "cell_type": "code",
   "execution_count": null,
   "metadata": {},
   "outputs": [],
   "source": [
    "from webtraffic_utils import *"
   ]
  },
  {
   "cell_type": "code",
   "execution_count": null,
   "metadata": {},
   "outputs": [],
   "source": [
    "output_len = 62\n",
    "normalize_ds = False\n",
    "batch_size = 32\n",
    "\n",
    "def process_line(line, normalize_ds=False):\n",
    "    line = tf.io.decode_csv(line, record_defaults=[\"\"]+[0.]*803)\n",
    "    # categorical features \n",
    "    page = line[0]\n",
    "    traffic = tf.stack(line[1:])\n",
    "\n",
    "    if normalize_ds:\n",
    "        traffic = traffic / (tf.reduce_max(traffic) +1e-10)\n",
    "    return (page, traffic[:-output_len]), traffic[-output_len:]\n",
    "    #return tf.stack(line[1:-62]), tf.stack(line[-62:])\n",
    "\n",
    "    \n",
    "def make_dataset(ds0,nmax=None, normalize_ds=False , batch_size = 32):\n",
    "    ds1 = ds0.map(lambda x: process_line(x, normalize_ds))\n",
    "    if nmax is not None:\n",
    "        ds1 = ds1.take(nmax)\n",
    "    return ds1.batch(batch_size).prefetch(1).cache()\n",
    "\n",
    "ds = make_dataset(tf.data.TextLineDataset(\"train_set.csv\"), normalize_ds=normalize_ds, batch_size=batch_size)\n",
    "val_ds = make_dataset(tf.data.TextLineDataset(\"validation_set.csv\"), normalize_ds=normalize_ds , batch_size=batch_size)\n",
    "ds_short = make_dataset(tf.data.TextLineDataset(\"train_set.csv\"), normalize_ds=normalize_ds,nmax=10000, batch_size=batch_size)\n"
   ]
  },
  {
   "cell_type": "code",
   "execution_count": null,
   "metadata": {},
   "outputs": [],
   "source": [
    "#df = pd.read_csv(\"train_2.csv.zip\", header=0, nrows=1000).fillna(0)\n",
    "#list(ds_from_dataframe(df).take(1).as_numpy_iterator())"
   ]
  },
  {
   "cell_type": "markdown",
   "metadata": {},
   "source": [
    "##### categories"
   ]
  },
  {
   "cell_type": "code",
   "execution_count": null,
   "metadata": {},
   "outputs": [],
   "source": [
    "df_cat = pd.read_csv(\"train_set.csv\", header=None, nrows=1000)\n",
    "voc_access = df_cat[0].apply(lambda x: \"_\".join(x.split(\"_\")[-2:])).unique()\n",
    "voc_project = df_cat[0].apply(lambda x: x.split(\"_\")[-3]).unique()"
   ]
  },
  {
   "cell_type": "code",
   "execution_count": null,
   "metadata": {},
   "outputs": [],
   "source": [
    "onehotAccess = OneHotEncodingLayer(voc_access)\n",
    "onehotProject = OneHotEncodingLayer(voc_project)"
   ]
  },
  {
   "cell_type": "code",
   "execution_count": null,
   "metadata": {},
   "outputs": [],
   "source": [
    "onehotAccess(tf.constant([b'mobile-web_all-agents', b'all-access_all-agents','desktop_all-agents', 'all-access_spider',\"tutu\"],dtype=object))"
   ]
  },
  {
   "cell_type": "markdown",
   "metadata": {},
   "source": [
    "[repeat last value](#repeat-last-value)  \n",
    "[linear model](#linear-model)  \n",
    "[RNN](#RNN)  "
   ]
  },
  {
   "cell_type": "markdown",
   "metadata": {},
   "source": [
    "## Exploration"
   ]
  },
  {
   "cell_type": "code",
   "execution_count": null,
   "metadata": {},
   "outputs": [],
   "source": [
    "# identify some interessant line\n",
    "df_examples = pd.read_csv(\"train_2.csv.zip\", header=0, nrows=50000)"
   ]
  },
  {
   "cell_type": "code",
   "execution_count": null,
   "metadata": {},
   "outputs": [],
   "source": [
    "# remarkable pages\n",
    "rem_pages = [\n",
    "    'Acier_inoxydable_fr.wikipedia.org_desktop_all-agents',\n",
    "]\n",
    "page = rem_pages[0]\n",
    "traffic_t =  df_examples.set_index(\"Page\").loc[page].values\n",
    "f,vax = plt.subplots(1,3, figsize=(20,4))\n",
    "fax = vax.flat\n",
    "\n",
    "\n",
    "ax=next(fax)\n",
    "ax.plot(traffic_t)\n",
    "ax.set_title(\"time traffic\")\n",
    "\n",
    "\n",
    "ax=next(fax)\n",
    "ax.plot(estimated_autocorrelation(traffic_t))\n",
    "ax.set_xticks([0,365,2*365])\n",
    "ax.set_title(\"autocorrelation\")\n",
    "ax.grid()\n",
    "\n",
    "ax=next(fax)\n",
    "plot_spectrest(traffic_t, ax)\n",
    "ax.set_title(\"spectral estimation\")\n",
    "\n",
    "\n",
    "\n",
    "\n",
    "plt.suptitle(page, fontsize=15)\n",
    "plt.show()"
   ]
  },
  {
   "cell_type": "markdown",
   "metadata": {},
   "source": [
    "## Models"
   ]
  },
  {
   "cell_type": "markdown",
   "metadata": {},
   "source": [
    "[repeat last value](#repeat-last-value)  \n",
    "[linear model](#linear-model)  \n",
    "[RNN](#RNN)  "
   ]
  },
  {
   "cell_type": "markdown",
   "metadata": {},
   "source": [
    "### repeat last value"
   ]
  },
  {
   "cell_type": "code",
   "execution_count": null,
   "metadata": {},
   "outputs": [],
   "source": [
    "import tensorflow_probability as tfp\n",
    "\n",
    "class Median(tf.keras.Model):\n",
    "    def __init__(self, median_depth=40):\n",
    "        super().__init__()\n",
    "        self.median_depth =median_depth\n",
    "            \n",
    "    def call(self, inputs):\n",
    "        #print(inputs)\n",
    "        Xtraff = tfp.stats.percentile(inputs[1][:,-self.median_depth:], 50.0, interpolation='lower', axis=1)\n",
    "        return tf.tile(tf.expand_dims(Xtraff,axis=1), [1,output_len])\n",
    "    \n",
    "med = Median(40)\n",
    "med.compile(loss=smape_reg, metrics=[smape,\"mae\"])\n",
    "#med.evaluate(ds)\n",
    "med.evaluate(val_ds)"
   ]
  },
  {
   "cell_type": "code",
   "execution_count": null,
   "metadata": {},
   "outputs": [],
   "source": [
    "plot_check_result(df_examples, rem_pages[0], med)"
   ]
  },
  {
   "cell_type": "markdown",
   "metadata": {},
   "source": [
    "### linear model"
   ]
  },
  {
   "cell_type": "code",
   "execution_count": null,
   "metadata": {},
   "outputs": [],
   "source": [
    "tf.keras.backend.clear_session()\n",
    "tb_cb = create_tb_cb(\"linear\")\n",
    "\n",
    "class preprocessing(tf.keras.layers.Layer):\n",
    "    def call(self, inputs):\n",
    "        return inputs[:,-150:]\n",
    "\n",
    "traffic = tf.keras.layers.Input(shape=(741,))\n",
    "page = tf.keras.layers.Input(shape=())\n",
    "x = preprocessing()(traffic)\n",
    "outputs = tf.keras.layers.Dense(units=output_len)(x)\n",
    "\n",
    "model_linear = tf.keras.Model(inputs=[page, traffic], outputs=[outputs])\n",
    "\n",
    "model_linear.summary()"
   ]
  },
  {
   "cell_type": "code",
   "execution_count": null,
   "metadata": {},
   "outputs": [],
   "source": [
    "model_linear.compile(loss=smape_reg, optimizer=tf.optimizers.Adam(learning_rate=1e-4), \n",
    "                     metrics=[smape,\"mae\"],)"
   ]
  },
  {
   "cell_type": "code",
   "execution_count": null,
   "metadata": {},
   "outputs": [],
   "source": [
    "def scheduler(epoch, lr):\n",
    "    if epoch < 10:\n",
    "        return lr\n",
    "    else:\n",
    "        return lr * tf.math.exp(-0.05)\n",
    "lr_cb = tf.keras.callbacks.LearningRateScheduler(scheduler)"
   ]
  },
  {
   "cell_type": "code",
   "execution_count": null,
   "metadata": {},
   "outputs": [],
   "source": [
    "es_cb = tf.keras.callbacks.EarlyStopping(monitor='val_smape', min_delta=0.1, patience=5, verbose=0, restore_best_weights=True)\n",
    "\n",
    "#ds1.cache()\n",
    "model_linear.fit(ds, epochs=20, callbacks=[tb_cb, lr_cb, es_cb], validation_data=val_ds)"
   ]
  },
  {
   "cell_type": "code",
   "execution_count": null,
   "metadata": {},
   "outputs": [],
   "source": [
    "plot_check_result(df_examples, rem_pages[0], model_linear)"
   ]
  },
  {
   "cell_type": "code",
   "execution_count": null,
   "metadata": {},
   "outputs": [],
   "source": [
    "weights = model_linear.get_layer(\"dense\").get_weights()[0]\n",
    "\n",
    "f,ax = plt.subplots()\n",
    "ax.plot(np.abs(weights[:,0]))\n",
    "ax.grid()"
   ]
  },
  {
   "cell_type": "markdown",
   "metadata": {},
   "source": [
    "### RNN"
   ]
  },
  {
   "cell_type": "code",
   "execution_count": null,
   "metadata": {},
   "outputs": [],
   "source": [
    "#!rm -Rf logs/*"
   ]
  },
  {
   "cell_type": "code",
   "execution_count": null,
   "metadata": {},
   "outputs": [],
   "source": [
    "class normalize_rnn(tf.keras.layers.Layer):\n",
    "    def call(self, inputs):\n",
    "        fact = tf.reduce_max(inputs, axis=1, keepdims=True)\n",
    "        ret = tf.divide(inputs, fact + 1e-10) \n",
    "        return ret, fact\n",
    "\n",
    "\n",
    "class denormalize_rnn(tf.keras.layers.Layer):\n",
    "    def call(self, inputs, fact):\n",
    "        #ret = tf.maximum(tf.floor(tf.multiply(inputs, fact)), 0)\n",
    "        ret = tf.multiply(inputs, fact)\n",
    "        return ret\n",
    "\n",
    "#xtry = tf.constant(np.random.randint(-1000, 1000, size=(10,5)), dtype=tf.float32)\n",
    "#xn, fact = normalize_rnn()(xtry)\n",
    "#denormalize_rnn()(xn,fact),xtry"
   ]
  },
  {
   "cell_type": "code",
   "execution_count": null,
   "metadata": {},
   "outputs": [],
   "source": [
    "Nneurons = 20\n",
    "Nlayers = 2\n",
    "MaxTs = 150\n",
    "usePastYear = True\n",
    "useMetadata = False\n",
    "tf.random.set_seed(42)\n",
    "\n",
    "simn = 'Ts'+str(MaxTs)+'-Nn'+str(Nneurons)+'-Nl'+str(Nlayers)\n",
    "\n",
    "tf.keras.backend.clear_session()\n",
    "tb_cb = create_tb_cb(simn)\n",
    "\n",
    "class preprocessing_rnn(tf.keras.layers.Layer):\n",
    "    def call(self, inputs, access1h):\n",
    "        ret = inputs[:,-MaxTs:,np.newaxis]\n",
    "        if useMetadata:\n",
    "            access_broadcast = tf.tile(access1h[:,np.newaxis,:],[1,MaxTs,1])\n",
    "            ret = tf.concat([ret, access_broadcast], axis=2)\n",
    "            \n",
    "        if usePastYear:\n",
    "            pastYear = inputs[:, -MaxTs-365+output_len:-365+output_len, np.newaxis]\n",
    "            ret = tf.concat([ret, pastYear], axis=2)\n",
    "        return ret\n",
    "\n",
    "I_traffic = tf.keras.layers.Input(shape=(741,))\n",
    "I_page = tf.keras.layers.Input(shape=(), dtype=object)\n",
    "\n",
    "access1h = onehotAccess(I_page)\n",
    "\n",
    "x, factors = normalize_rnn()(I_traffic)\n",
    "x = preprocessing_rnn()(x, access1h)\n",
    "for ii in range(Nlayers-1):\n",
    "    x = tf.keras.layers.GRU(Nneurons, return_sequences=True)(x)\n",
    "x = tf.keras.layers.GRU(Nneurons)(x)\n",
    "x= tf.keras.layers.Dense(output_len)(x)\n",
    "outputs= denormalize_rnn()(x, factors)\n",
    "\n",
    "model_rnn = tf.keras.Model(inputs=[I_page, I_traffic], outputs=[outputs])\n",
    "\n",
    "model_rnn.summary()"
   ]
  },
  {
   "cell_type": "code",
   "execution_count": null,
   "metadata": {},
   "outputs": [],
   "source": [
    "model_rnn.compile(loss=smape_reg, optimizer=tf.optimizers.Adam(learning_rate=1e-4),metrics=[smape])"
   ]
  },
  {
   "cell_type": "code",
   "execution_count": null,
   "metadata": {},
   "outputs": [],
   "source": [
    "es_cb = tf.keras.callbacks.EarlyStopping(monitor='smape', min_delta=0.1, patience=5, verbose=0, restore_best_weights=True)\n",
    "model_rnn.fit(ds_highpop, epochs=100, callbacks=[tb_cb, es_cb]) #, validation_data=val_ds)"
   ]
  },
  {
   "cell_type": "code",
   "execution_count": null,
   "metadata": {},
   "outputs": [],
   "source": [
    "plot_check_result(df_examples, rem_pages[0], model_rnn)"
   ]
  },
  {
   "cell_type": "markdown",
   "metadata": {},
   "source": [
    "#### error analysis"
   ]
  },
  {
   "cell_type": "code",
   "execution_count": null,
   "metadata": {},
   "outputs": [],
   "source": [
    "s_median = pd.Series(np.median(df_examples.drop(columns=\"Page\").values[:,:-output_len], axis=1), df_examples.index)\n",
    "\n",
    "\n",
    "f, ax = plt.subplots()\n",
    "#ax.hist(np.log1p(s_median), bins=50)\n",
    "#ax.hist(s_median, cumulative=True, bins=100, density=True)\n",
    "#ax.boxplot(np.random.randn(100))\n",
    "ax.boxplot(s_median.dropna(), showfliers=False)\n",
    "ax.grid()\n",
    "ax.set_title(\"median traffic distribution\")\n",
    "plt.show()"
   ]
  },
  {
   "cell_type": "code",
   "execution_count": null,
   "metadata": {},
   "outputs": [],
   "source": [
    "ds_lowpop = ds_from_dataframe(df_examples[s_median<200]).batch(32)\n",
    "ds_highpop = ds_from_dataframe(df_examples[s_median>=200]).batch(32)"
   ]
  },
  {
   "cell_type": "code",
   "execution_count": null,
   "metadata": {},
   "outputs": [],
   "source": [
    "print(\"linear low popularity: \", model_linear.evaluate(ds_lowpop, verbose=0))\n",
    "print(\"linear high popularity: \", model_linear.evaluate(ds_highpop, verbose=0))\n",
    "print(\"median low popularity: \", med.evaluate(ds_lowpop, verbose=0))\n",
    "print(\"median high popularity: \", med.evaluate(ds_highpop, verbose=0))\n",
    "print(\"rnn low popularity: \", model_rnn.evaluate(ds_lowpop, verbose=0))\n",
    "print(\"rnn high popularity: \", model_rnn.evaluate(ds_highpop, verbose=0))"
   ]
  },
  {
   "cell_type": "code",
   "execution_count": null,
   "metadata": {},
   "outputs": [],
   "source": [
    "def get_ds_pred(ds_short):\n",
    "    pred = model_rnn.predict(ds_short)\n",
    "    lds = list(ds_short.as_numpy_iterator())\n",
    "    agent = np.concatenate([batch[0][0] for batch in lds])\n",
    "    access = np.concatenate([batch[0][1] for batch in lds])\n",
    "    ytrue = np.concatenate([batch[1] for batch in lds])\n",
    "    xtrain = np.concatenate([batch[0][3] for batch in lds])\n",
    "    return pred, xtrain, ytrue"
   ]
  },
  {
   "cell_type": "code",
   "execution_count": null,
   "metadata": {},
   "outputs": [],
   "source": [
    "def smape_row(A, F):\n",
    "    return np.mean(100 * (2 * np.abs(F - A) / (np.abs(A) + np.abs(F) + np.finfo(float).eps)), axis=1)"
   ]
  },
  {
   "cell_type": "code",
   "execution_count": null,
   "metadata": {},
   "outputs": [],
   "source": [
    "pred_train, x_train, y_train = get_ds_pred(ds_short)\n",
    "pred_val, x_val, y_val = get_ds_pred(val_ds)"
   ]
  },
  {
   "cell_type": "code",
   "execution_count": null,
   "metadata": {},
   "outputs": [],
   "source": [
    "f, ax =plt.subplots()\n",
    "kwargs = {\"alpha\": 0.5, \"bins\": 50}\n",
    "ax.hist(smape_row(pred_train, y_train),**kwargs, label=\"train\")\n",
    "ax.hist(smape_row(pred_val, y_val),**kwargs, label=\"validation\")\n",
    "ax.set_title(np.mean(smape_row(pred, ytrue)))\n",
    "plt.show()\n"
   ]
  },
  {
   "cell_type": "code",
   "execution_count": null,
   "metadata": {},
   "outputs": [],
   "source": [
    "xsm = smape_row(pred_train, y_train)\n",
    "np.mean(xsm[xsm < 100])"
   ]
  },
  {
   "cell_type": "code",
   "execution_count": null,
   "metadata": {},
   "outputs": [],
   "source": [
    "vsmape = pd.Series(smape_row(pred_train, y_train))\n",
    "vsmape[(vsmape>150) ].head(20)"
   ]
  },
  {
   "cell_type": "code",
   "execution_count": null,
   "metadata": {},
   "outputs": [],
   "source": [
    "%matplotlib notebook\n",
    "%matplotlib notebook\n",
    "import matplotlib.pyplot as plt"
   ]
  },
  {
   "cell_type": "code",
   "execution_count": null,
   "metadata": {},
   "outputs": [],
   "source": [
    "%matplotlib\n",
    "ii= 49\n",
    "f, ax = plt.subplots()\n",
    "plot_check_result(np.r_[x_train[ii], y_train[ii]], rnn_estimator, ax)\n",
    "#ax.set_title(page)\n",
    "#ax.set_yscale(\"log\")\n",
    "#plt.show()"
   ]
  },
  {
   "cell_type": "code",
   "execution_count": null,
   "metadata": {},
   "outputs": [],
   "source": [
    "pred_train[ii].shape"
   ]
  },
  {
   "cell_type": "markdown",
   "metadata": {},
   "source": [
    "### ouput"
   ]
  },
  {
   "cell_type": "code",
   "execution_count": null,
   "metadata": {},
   "outputs": [],
   "source": [
    "key = pd.read_csv(\"key_2.csv.zip\").set_index(\"Page\")"
   ]
  },
  {
   "cell_type": "code",
   "execution_count": null,
   "metadata": {},
   "outputs": [],
   "source": [
    "key[\"Visits\"] = 0\n",
    "key.info()"
   ]
  },
  {
   "cell_type": "code",
   "execution_count": null,
   "metadata": {},
   "outputs": [],
   "source": [
    "def output_form(_df, _model=None):\n",
    "    \"\"\" return a serie indexed by Page \"\"\"\n",
    "    out_date = pd.date_range(start=\"2017-09-13\", end=\"2017-11-13\", freq=\"1D\").strftime(\"%Y-%m-%d\").to_list()\n",
    "    I_page = np.array(_df[\"Page\"])\n",
    "    I_traffic = _df.fillna(0).drop(columns=\"Page\").values[:,-741:]\n",
    "    num_pred = np.clip(_model.predict((I_page, I_traffic)).astype(int), a_min=0, a_max=None)\n",
    "    ret = pd.DataFrame(num_pred, columns=out_date, index=_df[\"Page\"]).stack().rename(\"Visits\")\n",
    "    ret.index = [ii[0]+\"_\"+ii[1] for ii in ret.index]\n",
    "    return ret\n",
    "\n",
    "chunk = pd.read_csv(\"train_2.csv.zip\", nrows=10000)\n",
    "Visits_pred = output_form(chunk, med)\n",
    "Visits_pred"
   ]
  },
  {
   "cell_type": "code",
   "execution_count": null,
   "metadata": {},
   "outputs": [],
   "source": [
    "df_chunk = pd.read_csv(\"train_2.csv.zip\", chunksize=10000)\n",
    "\n",
    "for ii, chunk in enumerate(df_chunk):\n",
    "    print(\"Prediction {}\".format(ii))\n",
    "    predictions = output_form(chunk, med).astype(int)\n",
    "    key.loc[predictions.index, \"Visits\"] = predictions.astype(int)"
   ]
  },
  {
   "cell_type": "code",
   "execution_count": null,
   "metadata": {},
   "outputs": [],
   "source": [
    "key.to_csv(\"subm_med.csv\", encoding='utf-8', index=False)"
   ]
  },
  {
   "cell_type": "code",
   "execution_count": null,
   "metadata": {},
   "outputs": [],
   "source": [
    "!kaggle competitions submit -f subm_med.csv -m \"median 40days\"  web-traffic-time-series-forecasting"
   ]
  }
 ],
 "metadata": {
  "kernelspec": {
   "display_name": "tf",
   "language": "python",
   "name": "tf"
  },
  "language_info": {
   "codemirror_mode": {
    "name": "ipython",
    "version": 3
   },
   "file_extension": ".py",
   "mimetype": "text/x-python",
   "name": "python",
   "nbconvert_exporter": "python",
   "pygments_lexer": "ipython3",
   "version": "3.8.8"
  }
 },
 "nbformat": 4,
 "nbformat_minor": 4
}
