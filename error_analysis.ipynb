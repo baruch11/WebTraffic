{
 "cells": [
  {
   "cell_type": "code",
   "execution_count": null,
   "metadata": {},
   "outputs": [],
   "source": [
    "from IPython.core.display import display, HTML\n",
    "display(HTML(\"<style>.container { width:90% !important; }</style>\"))\n",
    "%config Completer.use_jedi = False  # to make autocompletion faster"
   ]
  },
  {
   "cell_type": "code",
   "execution_count": null,
   "metadata": {},
   "outputs": [],
   "source": [
    "import tensorflow as tf\n",
    "import pandas as pd\n",
    "import gc"
   ]
  },
  {
   "cell_type": "code",
   "execution_count": null,
   "metadata": {},
   "outputs": [],
   "source": [
    "from webtraffic_utils import *"
   ]
  },
  {
   "cell_type": "markdown",
   "metadata": {},
   "source": [
    "### models"
   ]
  },
  {
   "cell_type": "code",
   "execution_count": null,
   "metadata": {},
   "outputs": [],
   "source": [
    "med = tf.keras.models.load_model('saved_model/median', custom_objects={'SmapeMetric': SmapeMetric,'SmapeLoss': SmapeLoss})\n",
    "model_linear = tf.keras.models.load_model('saved_model/model_linear', custom_objects={'SmapeMetric': SmapeMetric,'SmapeLoss': SmapeLoss})"
   ]
  },
  {
   "cell_type": "code",
   "execution_count": null,
   "metadata": {},
   "outputs": [],
   "source": [
    "model_rnn = tf.keras.models.load_model('saved_model/model_rnn', custom_objects={'SmapeMetric': SmapeMetric,'SmapeLoss': SmapeLoss, \n",
    "                                                                                'OneHotEncodingLayer':OneHotEncodingLayer})"
   ]
  },
  {
   "cell_type": "code",
   "execution_count": null,
   "metadata": {},
   "outputs": [],
   "source": [
    "mixed_model = tf.keras.models.load_model('saved_model/mixed_model', custom_objects={'SmapeMetric': SmapeMetric,'SmapeLoss': SmapeLoss, \n",
    "                                                                                'OneHotEncodingLayer':OneHotEncodingLayer})"
   ]
  },
  {
   "cell_type": "code",
   "execution_count": null,
   "metadata": {},
   "outputs": [],
   "source": [
    "rnn_simple = get_rnn_model(False)\n",
    "rnn_simple.get_layer(\"gru0\").set_weights(model_rnn.get_layer(\"gru0\").get_weights())\n",
    "rnn_simple.get_layer(\"dense0\").set_weights(model_rnn.get_layer(\"td\").get_weights())"
   ]
  },
  {
   "cell_type": "code",
   "execution_count": null,
   "metadata": {},
   "outputs": [],
   "source": [
    "rnn_delay = [ii for ii in model_rnn.get_config().get(\"layers\") if ii.get(\"class_name\") == \"preprocessing_rnn\"][0][\"config\"][\"max_delay\"]\n",
    "win_size_rnn = 62+rnn_delay"
   ]
  },
  {
   "cell_type": "markdown",
   "metadata": {},
   "source": [
    "### dataset"
   ]
  },
  {
   "cell_type": "code",
   "execution_count": null,
   "metadata": {},
   "outputs": [],
   "source": [
    "# features like (access, spectral tones) created by feature_engineering.ipynb\n",
    "\n",
    "from ast import literal_eval\n",
    "df_feat = pd.read_csv(\"features_computed.csv.zip\",converters={\"tones\":literal_eval}).set_index(\"Page\")\n",
    "weekly_tone = df_feat[\"tones\"].apply(lambda x: (np.abs(np.array(x)-1./7.)<1e-2).any())"
   ]
  },
  {
   "cell_type": "code",
   "execution_count": null,
   "metadata": {},
   "outputs": [],
   "source": [
    "df_train = pd.read_csv(\"train_2.csv.zip\", header=0).set_index(\"Page\").fillna(0).astype(np.int32)\n",
    "#df_train = pd.read_csv(\"train_2.csv.zip\", header=0).dropna().set_index(\"Page\").astype(np.int32).reset_index()"
   ]
  },
  {
   "cell_type": "raw",
   "metadata": {},
   "source": [
    "# add features to df\n",
    "add_feats = pd.concat([weekly_tone], axis=1)\n",
    "add_feats.rename(columns={ii:\"feat_\"+str(ii) for ii in add_feats.columns}, inplace=True)\n",
    "df_train = pd.concat([df_train, add_feats], axis=1)\n",
    "add_feats.columns"
   ]
  },
  {
   "cell_type": "code",
   "execution_count": null,
   "metadata": {},
   "outputs": [],
   "source": [
    "df_valid = df_train.loc[df_feat[\"median\"]>400]"
   ]
  },
  {
   "cell_type": "code",
   "execution_count": null,
   "metadata": {},
   "outputs": [],
   "source": [
    "for ii in range(1,100,10):\n",
    "    inputs, target= get_model_inputs(df_valid.iloc[:,:-ii])\n",
    "    med.evaluate(inputs, target, batch_size=1000)\n",
    "    gc.collect()"
   ]
  },
  {
   "cell_type": "code",
   "execution_count": null,
   "metadata": {},
   "outputs": [],
   "source": [
    "for ii in range(1,100,10):\n",
    "    inputs, target= get_model_inputs(df_valid.iloc[:, -win_size_rnn-ii:-ii])\n",
    "    rnn_simple.evaluate(inputs, target, batch_size=1000)\n",
    "    gc.collect()"
   ]
  },
  {
   "cell_type": "markdown",
   "metadata": {},
   "source": [
    "### error analysis"
   ]
  },
  {
   "cell_type": "markdown",
   "metadata": {},
   "source": [
    "###### example"
   ]
  },
  {
   "cell_type": "code",
   "execution_count": null,
   "metadata": {},
   "outputs": [],
   "source": [
    "plot_check_result(df_train.iloc[:,:-100], 'Acier_inoxydable_fr.wikipedia.org_desktop_all-agents', [med, model_linear, rnn_simple])"
   ]
  },
  {
   "cell_type": "markdown",
   "metadata": {},
   "source": [
    "###### model comparison"
   ]
  },
  {
   "cell_type": "code",
   "execution_count": null,
   "metadata": {},
   "outputs": [],
   "source": [
    "def smape_row(df_train, model):\n",
    "    features, ytrue = get_model_inputs(df_train)\n",
    "    def _smape_row(A, F):\n",
    "        return np.mean(100 * (2 * np.abs(F - A) / (np.abs(A) + np.abs(F) + np.finfo(float).eps)), axis=1)\n",
    "    return pd.Series(_smape_row(model.predict(features, batch_size=1000, verbose=1), ytrue), index=df_train.index)"
   ]
  },
  {
   "cell_type": "code",
   "execution_count": null,
   "metadata": {},
   "outputs": [],
   "source": [
    "df_valid = df_train.iloc[:,-win_size_rnn:].loc[df_feat[\"median\"]>400]\n",
    "smape_rnn = smape_row(df_valid, rnn_simple).rename(\"smape_rnn\")\n",
    "smape_med = smape_row(df_valid, med).rename(\"smape_med\")\n",
    "smape_lin = smape_row(df_valid, model_linear).rename(\"smape_lin\")\n",
    "\n",
    "print(smape_rnn.mean(), smape_med.mean())\n",
    "_ = gc.collect()"
   ]
  },
  {
   "cell_type": "code",
   "execution_count": null,
   "metadata": {},
   "outputs": [],
   "source": [
    "f, ax = plt.subplots()\n",
    "kwargs = {\"bins\": 50, \"alpha\": 0.3, \"density\": True}\n",
    "ax.hist(smape_rnn, **kwargs, label =\"rnn\")\n",
    "ax.hist(smape_med, **kwargs, label =\"med\")\n",
    "ax.hist(smape_lin, **kwargs, label =\"lin\")\n",
    "ax.legend()\n",
    "\n",
    "plt.show()"
   ]
  },
  {
   "cell_type": "code",
   "execution_count": null,
   "metadata": {},
   "outputs": [],
   "source": [
    "pd.concat([smape_rnn, smape_med], axis=1).min(axis=1).mean()"
   ]
  },
  {
   "cell_type": "code",
   "execution_count": null,
   "metadata": {},
   "outputs": [],
   "source": [
    "%matplotlib"
   ]
  },
  {
   "cell_type": "code",
   "execution_count": null,
   "metadata": {},
   "outputs": [],
   "source": [
    "f,ax = plt.subplots()\n",
    "\n",
    "ax.scatter(df_feat[\"median\"],smape_med-smape_rnn, s=0.1)\n",
    "ax.set_xlim((0,10000))"
   ]
  },
  {
   "cell_type": "code",
   "execution_count": null,
   "metadata": {},
   "outputs": [],
   "source": [
    "df_comp = pd.concat([df_feat[\"median\"], (smape_med-smape_rnn).rename(\"diff\")], axis=1)\n",
    "vc=pd.cut(df_comp[\"median\"], np.arange(0,15000,200))\n",
    "df_comp.groupby(vc).mean()[\"diff\"].plot(kind=\"bar\")"
   ]
  },
  {
   "cell_type": "code",
   "execution_count": null,
   "metadata": {},
   "outputs": [],
   "source": [
    "(df_feat[\"median\"]>400).mean()"
   ]
  },
  {
   "cell_type": "markdown",
   "metadata": {},
   "source": [
    "##### outliers"
   ]
  },
  {
   "cell_type": "code",
   "execution_count": null,
   "metadata": {},
   "outputs": [],
   "source": [
    "def outliers(row):\n",
    "    Q1 = row.quantile(0.5)\n",
    "    Q3 = row.quantile(0.75)\n",
    "    return (row.max()-Q3)/(Q3-Q1+1e-10)"
   ]
  },
  {
   "cell_type": "code",
   "execution_count": null,
   "metadata": {},
   "outputs": [],
   "source": [
    "df_train.head().apply(outliers, axis=1) #.quantile([0.5,0.75],axis=1).T"
   ]
  },
  {
   "cell_type": "code",
   "execution_count": null,
   "metadata": {},
   "outputs": [],
   "source": [
    "outliers = df_train.apply(outliers, axis=1)"
   ]
  }
 ],
 "metadata": {
  "kernelspec": {
   "display_name": "tf",
   "language": "python",
   "name": "tf"
  },
  "language_info": {
   "codemirror_mode": {
    "name": "ipython",
    "version": 3
   },
   "file_extension": ".py",
   "mimetype": "text/x-python",
   "name": "python",
   "nbconvert_exporter": "python",
   "pygments_lexer": "ipython3",
   "version": "3.8.8"
  }
 },
 "nbformat": 4,
 "nbformat_minor": 4
}
